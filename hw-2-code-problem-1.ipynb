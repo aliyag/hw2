{
 "cells": [
  {
   "cell_type": "code",
   "execution_count": 1,
   "id": "e4ffe355",
   "metadata": {},
   "outputs": [],
   "source": [
    "# import packages\n",
    "import pandas as pd\n",
    "from sklearn.model_selection import train_test_split\n",
    "from sklearn.linear_model import LinearRegression, LogisticRegression, Ridge, RidgeCV, Lasso, LassoCV\n",
    "from mlxtend.plotting import plot_sequential_feature_selection as plot_sfs\n",
    "from mlxtend.feature_selection import SequentialFeatureSelector as SFS\n",
    "from sklearn.neighbors import KNeighborsRegressor\n",
    "from sklearn.preprocessing import LabelEncoder, RobustScaler, PolynomialFeatures\n",
    "from sklearn.impute import SimpleImputer\n",
    "from sklearn.model_selection import GridSearchCV, cross_val_score\n",
    "from sklearn.metrics import mean_squared_error\n",
    "import matplotlib.pyplot as plt\n",
    "import seaborn as sn\n",
    "import statsmodels.api as sm\n",
    "import numpy as np\n",
    "import math "
   ]
  },
  {
   "cell_type": "code",
   "execution_count": 2,
   "id": "5615404d",
   "metadata": {},
   "outputs": [],
   "source": [
    "# Read CSV train data file into DataFrame\n",
    "train_df = pd.read_csv(\"train.csv\")\n",
    "\n",
    "# Read CSV test data file into DataFrame\n",
    "test_df = pd.read_csv(\"test.csv\")\n",
    "\n",
    "# concat train and test for cleaning\n",
    "combine_df = pd.concat((train_df, test_df))"
   ]
  },
  {
   "cell_type": "markdown",
   "id": "b01c5643",
   "metadata": {},
   "source": [
    "# Part 1 - Cleaning the Dataset"
   ]
  },
  {
   "cell_type": "code",
   "execution_count": 3,
   "id": "f80da325",
   "metadata": {},
   "outputs": [
    {
     "data": {
      "text/plain": [
       "1460"
      ]
     },
     "execution_count": 3,
     "metadata": {},
     "output_type": "execute_result"
    }
   ],
   "source": [
    "# How many samples are there in the training set? \n",
    "len(train_df)\n",
    "# There are 1,460 rows in the training set."
   ]
  },
  {
   "cell_type": "code",
   "execution_count": 4,
   "id": "54741552",
   "metadata": {},
   "outputs": [
    {
     "data": {
      "text/plain": [
       "81"
      ]
     },
     "execution_count": 4,
     "metadata": {},
     "output_type": "execute_result"
    }
   ],
   "source": [
    "#How many features?\n",
    "\n",
    "# There are 80 features\n",
    "len(train_df.keys())\n",
    "# The keys are 'MSSubClass', 'MSZoning', 'LotFrontage', 'LotArea', 'Street',\n",
    "#       'Alley', 'LotShape', 'LandContour', 'Utilities', 'LotConfig',\n",
    "#       'LandSlope', 'Neighborhood', 'Condition1', 'Condition2', 'BldgType',\n",
    "#       'HouseStyle', 'OverallQual', 'OverallCond', 'YearBuilt', 'YearRemodAdd',\n",
    "#       'RoofStyle', 'RoofMatl', 'Exterior1st', 'Exterior2nd', 'MasVnrType',\n",
    "#       'MasVnrArea', 'ExterQual', 'ExterCond', 'Foundation', 'BsmtQual',\n",
    "#       'BsmtCond', 'BsmtExposure', 'BsmtFinType1', 'BsmtFinSF1',\n",
    "#       'BsmtFinType2', 'BsmtFinSF2', 'BsmtUnfSF', 'TotalBsmtSF', 'Heating',\n",
    "#       'HeatingQC', 'CentralAir', 'Electrical', '1stFlrSF', '2ndFlrSF',\n",
    "#       'LowQualFinSF', 'GrLivArea', 'BsmtFullBath', 'BsmtHalfBath', 'FullBath',\n",
    "#       'HalfBath', 'BedroomAbvGr', 'KitchenAbvGr', 'KitchenQual',\n",
    "#       'TotRmsAbvGrd', 'Functional', 'Fireplaces', 'FireplaceQu', 'GarageType',\n",
    "#       'GarageYrBlt', 'GarageFinish', 'GarageCars', 'GarageArea', 'GarageQual',\n",
    "#       'GarageCond', 'PavedDrive', 'WoodDeckSF', 'OpenPorchSF',\n",
    "#       'EnclosedPorch', '3SsnPorch', 'ScreenPorch', 'PoolArea', 'PoolQC',\n",
    "#       'Fence', 'MiscFeature', 'MiscVal', 'MoSold', 'YrSold', 'SaleType',\n",
    "#       'SaleCondition', 'SalePrice'"
   ]
  },
  {
   "cell_type": "code",
   "execution_count": 5,
   "id": "f2301cdb",
   "metadata": {},
   "outputs": [
    {
     "data": {
      "text/plain": [
       "['MSZoning',\n",
       " 'Street',\n",
       " 'Alley',\n",
       " 'LotShape',\n",
       " 'LandContour',\n",
       " 'Utilities',\n",
       " 'LotConfig',\n",
       " 'LandSlope',\n",
       " 'Neighborhood',\n",
       " 'Condition1',\n",
       " 'Condition2',\n",
       " 'BldgType',\n",
       " 'HouseStyle',\n",
       " 'RoofStyle',\n",
       " 'RoofMatl',\n",
       " 'Exterior1st',\n",
       " 'Exterior2nd',\n",
       " 'MasVnrType',\n",
       " 'ExterQual',\n",
       " 'ExterCond',\n",
       " 'Foundation',\n",
       " 'BsmtQual',\n",
       " 'BsmtCond',\n",
       " 'BsmtExposure',\n",
       " 'BsmtFinType1',\n",
       " 'BsmtFinType2',\n",
       " 'Heating',\n",
       " 'HeatingQC',\n",
       " 'CentralAir',\n",
       " 'Electrical',\n",
       " 'KitchenQual',\n",
       " 'Functional',\n",
       " 'FireplaceQu',\n",
       " 'GarageType',\n",
       " 'GarageFinish',\n",
       " 'GarageQual',\n",
       " 'GarageCond',\n",
       " 'PavedDrive',\n",
       " 'PoolQC',\n",
       " 'Fence',\n",
       " 'MiscFeature',\n",
       " 'SaleType',\n",
       " 'SaleCondition']"
      ]
     },
     "execution_count": 5,
     "metadata": {},
     "output_type": "execute_result"
    }
   ],
   "source": [
    "# Which features are categorical?\n",
    "cat_features=[i for i in combine_df.columns if train_df.dtypes[i]=='object']\n",
    "\n",
    "cat_features"
   ]
  },
  {
   "cell_type": "code",
   "execution_count": 6,
   "id": "2b56320c",
   "metadata": {},
   "outputs": [
    {
     "data": {
      "image/png": "[encoded data removed]",
      "text/plain": [
       "<Figure size 720x432 with 1 Axes>"
      ]
     },
     "metadata": {
      "needs_background": "light"
     },
     "output_type": "display_data"
    }
   ],
   "source": [
    "# What variables seem to be important? \n",
    "# Find features that contain NA values\n",
    "nans = combine_df.isna().sum().sort_values(ascending=False)\n",
    "nans = nans[nans > 0]\n",
    "nans\n",
    "fig, ax = plt.subplots(figsize=(10, 6))\n",
    "ax.grid()\n",
    "ax.bar(nans.index, nans.values, zorder=2, color=\"#3f72af\")\n",
    "ax.set_ylabel(\"No. of missing values\", labelpad=10)\n",
    "ax.set_xlim(-0.6, len(nans) - 0.4)\n",
    "ax.xaxis.set_tick_params(rotation=90)\n",
    "plt.show()"
   ]
  },
  {
   "cell_type": "code",
   "execution_count": 7,
   "id": "18fd7281",
   "metadata": {},
   "outputs": [],
   "source": [
    "# Group 1:\n",
    "group_1 = [\n",
    "    'PoolQC', 'MiscFeature', 'Alley', 'Fence', 'FireplaceQu', 'GarageType',\n",
    "    'GarageFinish', 'GarageQual', 'GarageCond', 'BsmtQual', 'BsmtCond',\n",
    "    'BsmtExposure', 'BsmtFinType1', 'BsmtFinType2', 'MasVnrType'\n",
    "]\n",
    "combine_df[group_1] = combine_df[group_1].fillna(\"None\")\n",
    "\n",
    "# Group 2:\n",
    "group_2 = [\n",
    "    'GarageArea', 'GarageCars', 'BsmtFinSF1', 'BsmtFinSF2', 'BsmtUnfSF',\n",
    "    'TotalBsmtSF', 'BsmtFullBath', 'BsmtHalfBath', 'MasVnrArea'\n",
    "]\n",
    "\n",
    "combine_df[group_2] = combine_df[group_2].fillna(0)\n",
    "\n",
    "# Group 3:\n",
    "group_3a = [\n",
    "    'Functional', 'MSZoning', 'Electrical', 'KitchenQual', 'Exterior1st',\n",
    "    'Exterior2nd', 'SaleType', 'Utilities'\n",
    "]\n",
    "\n",
    "imputer = SimpleImputer(strategy='most_frequent')\n",
    "combine_df[group_3a] = pd.DataFrame(imputer.fit_transform(combine_df[group_3a]), index=combine_df.index)\n",
    "\n",
    "combine_df.LotFrontage = combine_df.LotFrontage.fillna(combine_df.LotFrontage.mean())\n",
    "combine_df.GarageYrBlt = combine_df.GarageYrBlt.fillna(combine_df.YearBuilt)"
   ]
  },
  {
   "cell_type": "code",
   "execution_count": 8,
   "id": "7338df61",
   "metadata": {},
   "outputs": [],
   "source": [
    "# Ordinal categorical columns\n",
    "label_encoding_cols = [\n",
    "    \"Alley\", \"BsmtCond\", \"BsmtExposure\", \"BsmtFinType1\", \"BsmtFinType2\",\n",
    "    \"BsmtQual\", \"ExterCond\", \"ExterQual\", \"FireplaceQu\", \"Functional\",\n",
    "    \"GarageCond\", \"GarageQual\", \"HeatingQC\", \"KitchenQual\", \"LandSlope\",\n",
    "    \"LotShape\", \"PavedDrive\", \"PoolQC\", \"Street\", \"Utilities\"\n",
    "]\n",
    "\n",
    "# Apply Label Encoder\n",
    "label_encoder = LabelEncoder()\n",
    "\n",
    "for col in label_encoding_cols:\n",
    "    combine_df[col] = label_encoder.fit_transform(combine_df[col])"
   ]
  },
  {
   "cell_type": "code",
   "execution_count": 9,
   "id": "64013cff",
   "metadata": {},
   "outputs": [],
   "source": [
    "combine_df['totalSqFeet'] = combine_df['TotalBsmtSF'] + combine_df['1stFlrSF'] + combine_df['2ndFlrSF']\n",
    "combine_df['totalBathroom'] = combine_df.FullBath + combine_df.BsmtFullBath + 0.5 * (combine_df.HalfBath + combine_df.BsmtHalfBath)\n",
    "combine_df['houseAge'] = combine_df.YrSold - combine_df.YearBuilt\n",
    "combine_df['reModeled'] = np.where(combine_df.YearRemodAdd == combine_df.YearBuilt, 0, 1)\n",
    "combine_df['isNew'] = np.where(combine_df.YrSold == combine_df.YearBuilt, 1, 0)"
   ]
  },
  {
   "cell_type": "code",
   "execution_count": 10,
   "id": "7461eea2",
   "metadata": {},
   "outputs": [],
   "source": [
    "cols = [\"MSSubClass\", \"YrSold\"]\n",
    "combine_df[cols] = combine_df[cols].astype(\"object\")"
   ]
  },
  {
   "cell_type": "code",
   "execution_count": 11,
   "id": "20cba42a",
   "metadata": {},
   "outputs": [],
   "source": [
    "# Since each feature in this dataset is measured in completely different units and dimensions\n",
    "# (e.g., LotArea vs LotFrontage), make sure that for regularized models (ridge and LASSO) you\n",
    "# standardize your data first so that coefficients of smaller units are not unfairly penalized relative\n",
    "# to coefficients of bigger units \n",
    "numerical_cols = combine_df.drop(columns=['Id', 'SalePrice']).select_dtypes(exclude=['object']).columns\n",
    "scaler = RobustScaler()\n",
    "combine_df[numerical_cols] = scaler.fit_transform(combine_df[numerical_cols])"
   ]
  },
  {
   "cell_type": "markdown",
   "id": "9bb44de6",
   "metadata": {},
   "source": [
    "# Part 2 - Exploring the features"
   ]
  },
  {
   "cell_type": "code",
   "execution_count": 12,
   "id": "74e1d6f4",
   "metadata": {},
   "outputs": [
    {
     "data": {
      "text/plain": [
       "Text(0, 0.5, 'Correlation')"
      ]
     },
     "execution_count": 12,
     "metadata": {},
     "output_type": "execute_result"
    },
    {
     "data": {
      "image/png": "[encoded data removed]",
      "text/plain": [
       "<Figure size 432x288 with 1 Axes>"
      ]
     },
     "metadata": {
      "needs_background": "light"
     },
     "output_type": "display_data"
    }
   ],
   "source": [
    "# Which seem to correlate with the sale price? \n",
    "top_correlations = combine_df.corr()\n",
    "top_feature_columns = top_correlations['SalePrice'][(top_correlations['SalePrice'].values > 0.2) & (top_correlations['SalePrice'].values < 1.0)].sort_values(ascending=False)\n",
    "top_feature_columns.iloc[:10].plot.bar(x='lab', y='val')\n",
    "top_feature_columns\n",
    "plt.title(\"Correlations between Sale Price vs Other Features\")\n",
    "plt.xlabel(\"Features\")\n",
    "plt.ylabel(\"Correlation\")"
   ]
  },
  {
   "cell_type": "code",
   "execution_count": 13,
   "id": "351de326",
   "metadata": {},
   "outputs": [
    {
     "data": {
      "image/png": "[encoded data removed]",
      "text/plain": [
       "<Figure size 1440x180 with 9 Axes>"
      ]
     },
     "metadata": {
      "needs_background": "light"
     },
     "output_type": "display_data"
    }
   ],
   "source": [
    "# Plot the relationship between sale price and year of sale, garage area, lot area, and other variables of\n",
    "# your choice. Choose 7 variables and, along with the response variable, make a scatterplot\n",
    "# matrix (hint: look at pandas.plotting.scatter_matrix or seaborn.pairplot). Explain what you see.\n",
    "scatter_df = combine_df[['SalePrice', 'YrSold', 'GarageArea', 'LotArea', 'OverallQual', 'GrLivArea', 'GarageCars', 'TotalBsmtSF']]\n",
    "\n",
    "# pairplot with hue day\n",
    "sn.pairplot(scatter_df, y_vars='SalePrice')\n",
    "# to show\n",
    "plt.show()"
   ]
  },
  {
   "cell_type": "code",
   "execution_count": 14,
   "id": "2bc5e055",
   "metadata": {},
   "outputs": [],
   "source": [
    "# add dummies for categorical data\n",
    "combine_df = pd.get_dummies(combine_df, drop_first=True)"
   ]
  },
  {
   "cell_type": "code",
   "execution_count": 15,
   "id": "fe8e1bd2",
   "metadata": {},
   "outputs": [],
   "source": [
    "# Declare X and Y to run varying models \n",
    "X = combine_df[:1460].drop(columns=['Id', 'SalePrice'])\n",
    "Y = combine_df[:1460]['SalePrice']"
   ]
  },
  {
   "cell_type": "markdown",
   "id": "4467eecc",
   "metadata": {},
   "source": [
    "# Part 3 - 95% Confidence Intervals (CI)"
   ]
  },
  {
   "cell_type": "code",
   "execution_count": 16,
   "id": "e1e445b9",
   "metadata": {},
   "outputs": [
    {
     "name": "stdout",
     "output_type": "stream",
     "text": [
      "                            OLS Regression Results                            \n",
      "==============================================================================\n",
      "Dep. Variable:              SalePrice   R-squared:                       0.922\n",
      "Model:                            OLS   Adj. R-squared:                  0.908\n",
      "Method:                 Least Squares   F-statistic:                     66.93\n",
      "Date:                Wed, 06 Oct 2021   Prob (F-statistic):               0.00\n",
      "Time:                        17:40:47   Log-Likelihood:                -16682.\n",
      "No. Observations:                1460   AIC:                         3.380e+04\n",
      "Df Residuals:                    1240   BIC:                         3.497e+04\n",
      "Df Model:                         219                                         \n",
      "Covariance Type:            nonrobust                                         \n",
      "=========================================================================================\n",
      "                            coef    std err          t      P>|t|      [0.025      0.975]\n",
      "-----------------------------------------------------------------------------------------\n",
      "LotFrontage            1467.4473    816.561      1.797      0.073    -134.547    3069.442\n",
      "LotArea                2169.3079    386.920      5.607      0.000    1410.217    2928.399\n",
      "Street                 3.056e+04   1.22e+04      2.501      0.013    6589.799    5.45e+04\n",
      "Alley                  -108.7221   3211.151     -0.034      0.973   -6408.611    6191.167\n",
      "LotShape               2232.1563   1684.484      1.325      0.185   -1072.598    5536.911\n",
      "Utilities             -5.655e+04      3e+04     -1.883      0.060   -1.15e+05    2376.499\n",
      "LandSlope              1438.7326   3615.434      0.398      0.691   -5654.311    8531.776\n",
      "OverallQual            1.551e+04   2108.261      7.358      0.000    1.14e+04    1.96e+04\n",
      "OverallCond            5217.1263    869.432      6.001      0.000    3511.407    6922.846\n",
      "YearBuilt              7.821e+04    1.6e+04      4.889      0.000    4.68e+04     1.1e+05\n",
      "YearRemodAdd           1240.8087   2302.626      0.539      0.590   -3276.664    5758.282\n",
      "MasVnrArea             5079.7313    987.834      5.142      0.000    3141.721    7017.742\n",
      "ExterQual             -7483.1583   1679.842     -4.455      0.000   -1.08e+04   -4187.512\n",
      "ExterCond               832.8789   1041.813      0.799      0.424   -1211.032    2876.790\n",
      "BsmtQual              -5348.3270   1811.091     -2.953      0.003   -8901.469   -1795.185\n",
      "BsmtCond                365.0417    787.523      0.464      0.643   -1179.983    1910.066\n",
      "BsmtExposure          -2667.6023    754.380     -3.536      0.000   -4147.605   -1187.600\n",
      "BsmtFinType1           1808.2985   1719.811      1.051      0.293   -1565.762    5182.359\n",
      "BsmtFinSF1             -4.01e+05      9e+04     -4.458      0.000   -5.78e+05   -2.25e+05\n",
      "BsmtFinType2           -317.1787    858.857     -0.369      0.712   -2002.151    1367.794\n",
      "BsmtFinSF2             -562.2641    123.006     -4.571      0.000    -803.586    -320.942\n",
      "BsmtUnfSF             -3.336e+05   7.18e+04     -4.644      0.000   -4.75e+05   -1.93e+05\n",
      "TotalBsmtSF             8.08e+04   1.67e+04      4.844      0.000    4.81e+04    1.14e+05\n",
      "HeatingQC             -2659.3006   2095.722     -1.269      0.205   -6770.854    1452.253\n",
      "1stFlrSF              -6.271e+05   1.38e+05     -4.537      0.000   -8.98e+05   -3.56e+05\n",
      "2ndFlrSF               -8.54e+05   1.91e+05     -4.483      0.000   -1.23e+06    -4.8e+05\n",
      "LowQualFinSF           -833.4969    180.128     -4.627      0.000   -1186.886    -480.107\n",
      "GrLivArea              5.254e+05   1.11e+05      4.713      0.000    3.07e+05    7.44e+05\n",
      "BsmtFullBath           -145.3067   1526.839     -0.095      0.924   -3140.780    2850.167\n",
      "BsmtHalfBath          -1108.7975   2854.905     -0.388      0.698   -6709.775    4492.181\n",
      "FullBath               1870.0940   1653.909      1.131      0.258   -1374.674    5114.863\n",
      "HalfBath                390.5752   1973.386      0.198      0.843   -3480.970    4262.120\n",
      "BedroomAbvGr          -5704.9772   1465.043     -3.894      0.000   -8579.214   -2830.740\n",
      "KitchenAbvGr          -1.435e+04   6349.306     -2.260      0.024   -2.68e+04   -1891.382\n",
      "KitchenQual           -6237.0386   1193.776     -5.225      0.000   -8579.082   -3894.995\n",
      "TotRmsAbvGrd           5372.3111   1998.224      2.689      0.007    1452.038    9292.584\n",
      "Functional             3996.1759    802.605      4.979      0.000    2421.561    5570.791\n",
      "Fireplaces             2201.0179   1407.743      1.564      0.118    -560.803    4962.839\n",
      "FireplaceQu             110.4307    660.757      0.167      0.867   -1185.895    1406.756\n",
      "GarageYrBlt            -364.5492   2588.380     -0.141      0.888   -5442.637    4713.538\n",
      "GarageCars             4590.7015   2352.980      1.951      0.051     -25.561    9206.964\n",
      "GarageArea             3900.2149   2094.296      1.862      0.063    -208.540    8008.970\n",
      "GarageQual              206.9206   1088.041      0.190      0.849   -1927.684    2341.525\n",
      "GarageCond              160.9808   1255.053      0.128      0.898   -2301.280    2623.242\n",
      "PavedDrive              590.4419   1736.193      0.340      0.734   -2815.759    3996.643\n",
      "WoodDeckSF             2425.5971   1028.575      2.358      0.019     407.657    4443.537\n",
      "OpenPorchSF            1362.0302    847.234      1.608      0.108    -300.141    3024.201\n",
      "EnclosedPorch             3.9360     13.059      0.301      0.763     -21.684      29.556\n",
      "3SsnPorch                37.5435     23.559      1.594      0.111      -8.677      83.764\n",
      "ScreenPorch              48.5341     12.975      3.741      0.000      23.078      73.990\n",
      "PoolArea                 24.0384     42.230      0.569      0.569     -58.811     106.888\n",
      "PoolQC                -2.632e+04   1.24e+04     -2.118      0.034   -5.07e+04   -1934.864\n",
      "MiscVal                   0.9013      6.505      0.139      0.890     -11.861      13.663\n",
      "MoSold                -2177.1885   1072.193     -2.031      0.043   -4280.702     -73.675\n",
      "totalSqFeet            4.208e+05   8.94e+04      4.707      0.000    2.45e+05    5.96e+05\n",
      "totalBathroom          1365.6762   1259.217      1.085      0.278   -1104.755    3836.107\n",
      "houseAge               6.574e+04   1.59e+04      4.131      0.000    3.45e+04     9.7e+04\n",
      "reModeled               685.1405   1914.285      0.358      0.720   -3070.455    4440.736\n",
      "isNew                 -1.554e+04   4735.679     -3.281      0.001   -2.48e+04   -6246.133\n",
      "MSSubClass_30         -4008.9787   4946.292     -0.811      0.418   -1.37e+04    5695.047\n",
      "MSSubClass_40         -5526.9113   1.81e+04     -0.306      0.760    -4.1e+04    2.99e+04\n",
      "MSSubClass_45          1681.4310   2.36e+04      0.071      0.943   -4.46e+04     4.8e+04\n",
      "MSSubClass_50          1206.6204   9175.060      0.132      0.895   -1.68e+04    1.92e+04\n",
      "MSSubClass_60          8299.8430   8102.539      1.024      0.306   -7596.357    2.42e+04\n",
      "MSSubClass_70          7875.0643   8690.725      0.906      0.365   -9175.085    2.49e+04\n",
      "MSSubClass_75         -1.882e+04   1.62e+04     -1.164      0.245   -5.05e+04    1.29e+04\n",
      "MSSubClass_80          -1.64e+04   1.33e+04     -1.232      0.218   -4.25e+04    9718.275\n",
      "MSSubClass_85         -7682.5812   1.12e+04     -0.684      0.494   -2.97e+04    1.43e+04\n",
      "MSSubClass_90         -2317.3709   3790.804     -0.611      0.541   -9754.469    5119.728\n",
      "MSSubClass_120        -1.475e+04   1.54e+04     -0.956      0.339    -4.5e+04    1.55e+04\n",
      "MSSubClass_150         8.325e-09   1.15e-09      7.242      0.000    6.07e-09    1.06e-08\n",
      "MSSubClass_160        -3893.4063   1.85e+04     -0.211      0.833   -4.01e+04    3.23e+04\n",
      "MSSubClass_180        -1.092e+04   2.08e+04     -0.526      0.599   -5.16e+04    2.98e+04\n",
      "MSSubClass_190        -1564.4796   2.69e+04     -0.058      0.954   -5.44e+04    5.12e+04\n",
      "MSZoning_FV            3.144e+04   1.27e+04      2.477      0.013    6534.276    5.64e+04\n",
      "MSZoning_RH            2.663e+04   1.27e+04      2.104      0.036    1793.313    5.15e+04\n",
      "MSZoning_RL             2.67e+04   1.09e+04      2.459      0.014    5401.388     4.8e+04\n",
      "MSZoning_RM            2.623e+04   1.02e+04      2.568      0.010    6187.544    4.63e+04\n",
      "LandContour_HLS        1.536e+04   5398.326      2.845      0.005    4767.898    2.59e+04\n",
      "LandContour_Low       -3593.1989   6626.512     -0.542      0.588   -1.66e+04    9407.215\n",
      "LandContour_Lvl        6653.0157   3874.084      1.717      0.086    -947.469    1.43e+04\n",
      "LotConfig_CulDSac      1.119e+04   3458.010      3.235      0.001    4402.999     1.8e+04\n",
      "LotConfig_FR2         -3660.1864   4232.253     -0.865      0.387    -1.2e+04    4642.982\n",
      "LotConfig_FR3         -1.854e+04   1.33e+04     -1.391      0.164   -4.47e+04    7604.702\n",
      "LotConfig_Inside        -28.7525   1873.016     -0.015      0.988   -3703.383    3645.878\n",
      "Neighborhood_Blueste   7605.4713   2.08e+04      0.365      0.715   -3.32e+04    4.85e+04\n",
      "Neighborhood_BrDale    1.035e+04   1.23e+04      0.843      0.399   -1.37e+04    3.44e+04\n",
      "Neighborhood_BrkSide  -1958.6844      1e+04     -0.195      0.845   -2.16e+04    1.77e+04\n",
      "Neighborhood_ClearCr   -1.07e+04   9791.672     -1.092      0.275   -2.99e+04    8513.470\n",
      "Neighborhood_CollgCr  -1.226e+04   7722.226     -1.587      0.113   -2.74e+04    2893.473\n",
      "Neighborhood_Crawfor   7433.7327   9132.244      0.814      0.416   -1.05e+04    2.54e+04\n",
      "Neighborhood_Edwards  -1.633e+04   8536.120     -1.913      0.056   -3.31e+04     420.894\n",
      "Neighborhood_Gilbert  -1.209e+04   8135.426     -1.486      0.137   -2.81e+04    3870.039\n",
      "Neighborhood_IDOTRR   -8433.8145   1.14e+04     -0.741      0.459   -3.08e+04    1.39e+04\n",
      "Neighborhood_MeadowV  -7738.7463   1.31e+04     -0.593      0.553   -3.33e+04    1.79e+04\n",
      "Neighborhood_Mitchel  -1.509e+04   8606.870     -1.753      0.080    -3.2e+04    1794.767\n",
      "Neighborhood_NAmes    -1.244e+04   8362.335     -1.488      0.137   -2.89e+04    3961.712\n",
      "Neighborhood_NPkVill   1.524e+04   1.48e+04      1.030      0.303   -1.38e+04    4.43e+04\n",
      "Neighborhood_NWAmes   -1.824e+04   8503.033     -2.145      0.032   -3.49e+04   -1560.955\n",
      "Neighborhood_NoRidge   1.933e+04   8943.493      2.162      0.031    1788.238    3.69e+04\n",
      "Neighborhood_NridgHt   2.281e+04   7924.678      2.879      0.004    7266.688    3.84e+04\n",
      "Neighborhood_OldTown  -1.365e+04   1.02e+04     -1.343      0.179   -3.36e+04    6284.354\n",
      "Neighborhood_SWISU    -9399.3662   1.03e+04     -0.916      0.360   -2.95e+04    1.07e+04\n",
      "Neighborhood_Sawyer   -5581.5508   8645.713     -0.646      0.519   -2.25e+04    1.14e+04\n",
      "Neighborhood_SawyerW  -7197.2232   8287.311     -0.868      0.385   -2.35e+04    9061.477\n",
      "Neighborhood_Somerst  -5307.0037   9630.182     -0.551      0.582   -2.42e+04    1.36e+04\n",
      "Neighborhood_StoneBr   3.523e+04   8859.692      3.976      0.000    1.78e+04    5.26e+04\n",
      "Neighborhood_Timber   -9713.8047   8679.753     -1.119      0.263   -2.67e+04    7314.819\n",
      "Neighborhood_Veenker    609.3653   1.11e+04      0.055      0.956   -2.12e+04    2.24e+04\n",
      "Condition1_Feedr       4022.2925   5211.452      0.772      0.440   -6201.945    1.42e+04\n",
      "Condition1_Norm        1.339e+04   4330.541      3.093      0.002    4896.707    2.19e+04\n",
      "Condition1_PosA        7992.7668   1.05e+04      0.764      0.445   -1.25e+04    2.85e+04\n",
      "Condition1_PosN        9149.6152   7781.776      1.176      0.240   -6117.288    2.44e+04\n",
      "Condition1_RRAe       -1.533e+04   9165.743     -1.673      0.095   -3.33e+04    2648.739\n",
      "Condition1_RRAn        1.325e+04   7241.635      1.829      0.068    -962.116    2.75e+04\n",
      "Condition1_RRNe       -8727.3468   1.85e+04     -0.472      0.637    -4.5e+04    2.76e+04\n",
      "Condition1_RRNn        1.171e+04   1.36e+04      0.864      0.388   -1.49e+04    3.83e+04\n",
      "Condition2_Feedr      -2.914e+04   2.67e+04     -1.092      0.275   -8.15e+04    2.32e+04\n",
      "Condition2_Norm       -2.535e+04   2.37e+04     -1.071      0.284   -7.18e+04    2.11e+04\n",
      "Condition2_PosA        1.503e+04   3.68e+04      0.409      0.683   -5.71e+04    8.71e+04\n",
      "Condition2_PosN       -2.527e+05   3.07e+04     -8.240      0.000   -3.13e+05   -1.93e+05\n",
      "Condition2_RRAe        -1.01e+05   7.51e+04     -1.344      0.179   -2.48e+05    4.64e+04\n",
      "Condition2_RRAn        -1.87e+04   3.47e+04     -0.539      0.590   -8.68e+04    4.94e+04\n",
      "Condition2_RRNn       -2.939e+04   3.01e+04     -0.975      0.330   -8.85e+04    2.98e+04\n",
      "BldgType_2fmCon       -8493.8654   2.61e+04     -0.326      0.745   -5.96e+04    4.26e+04\n",
      "BldgType_Duplex       -2317.3709   3790.804     -0.611      0.541   -9754.469    5119.728\n",
      "BldgType_Twnhs         -1.75e+04   1.65e+04     -1.062      0.289   -4.98e+04    1.48e+04\n",
      "BldgType_TwnhsE       -1.109e+04   1.57e+04     -0.707      0.480   -4.19e+04    1.97e+04\n",
      "HouseStyle_1.5Unf      9912.2275   2.36e+04      0.420      0.674   -3.64e+04    5.62e+04\n",
      "HouseStyle_1Story       1.23e+04   9275.542      1.326      0.185   -5900.790    3.05e+04\n",
      "HouseStyle_2.5Fin      1294.9953    1.8e+04      0.072      0.943    -3.4e+04    3.66e+04\n",
      "HouseStyle_2.5Unf      6874.2288   1.68e+04      0.410      0.682   -2.61e+04    3.98e+04\n",
      "HouseStyle_2Story     -1.062e+04   8502.707     -1.249      0.212   -2.73e+04    6063.731\n",
      "HouseStyle_SFoyer      7195.5117   1.24e+04      0.581      0.561   -1.71e+04    3.15e+04\n",
      "HouseStyle_SLvl        2.387e+04   1.44e+04      1.653      0.099   -4461.677    5.22e+04\n",
      "RoofStyle_Gable        1973.7233   1.91e+04      0.103      0.918   -3.56e+04    3.95e+04\n",
      "RoofStyle_Gambrel      4984.1997   2.09e+04      0.238      0.812    -3.6e+04     4.6e+04\n",
      "RoofStyle_Hip          4011.4725   1.92e+04      0.209      0.835   -3.37e+04    4.17e+04\n",
      "RoofStyle_Mansard      1.502e+04   2.23e+04      0.674      0.500   -2.87e+04    5.87e+04\n",
      "RoofStyle_Shed         6.004e+04   3.95e+04      1.522      0.128   -1.74e+04    1.37e+05\n",
      "RoofMatl_CompShg       6.399e+05   3.54e+04     18.094      0.000    5.71e+05    7.09e+05\n",
      "RoofMatl_Membran        6.82e+05    4.8e+04     14.195      0.000    5.88e+05    7.76e+05\n",
      "RoofMatl_Metal         6.608e+05   4.87e+04     13.569      0.000    5.65e+05    7.56e+05\n",
      "RoofMatl_Roll           6.26e+05   4.42e+04     14.162      0.000    5.39e+05    7.13e+05\n",
      "RoofMatl_Tar&Grv       6.349e+05   3.98e+04     15.937      0.000    5.57e+05    7.13e+05\n",
      "RoofMatl_WdShake       6.128e+05   3.91e+04     15.682      0.000    5.36e+05    6.89e+05\n",
      "RoofMatl_WdShngl       7.212e+05   3.66e+04     19.716      0.000    6.49e+05    7.93e+05\n",
      "Exterior1st_AsphShn   -1.007e+04   3.46e+04     -0.291      0.771    -7.8e+04    5.79e+04\n",
      "Exterior1st_BrkComm   -4677.3622   2.93e+04     -0.160      0.873   -6.21e+04    5.27e+04\n",
      "Exterior1st_BrkFace    1.173e+04   1.33e+04      0.880      0.379   -1.44e+04    3.79e+04\n",
      "Exterior1st_CBlock    -6423.7519   1.34e+04     -0.481      0.631   -3.26e+04    1.98e+04\n",
      "Exterior1st_CemntBd   -5843.9136   1.98e+04     -0.295      0.768   -4.47e+04     3.3e+04\n",
      "Exterior1st_HdBoard   -6415.6170   1.35e+04     -0.477      0.634   -3.28e+04       2e+04\n",
      "Exterior1st_ImStucc   -4.213e+04   2.96e+04     -1.425      0.154      -1e+05    1.59e+04\n",
      "Exterior1st_MetalSd    2693.9596   1.53e+04      0.176      0.860   -2.73e+04    3.27e+04\n",
      "Exterior1st_Plywood   -9715.3333   1.33e+04     -0.729      0.466   -3.59e+04    1.64e+04\n",
      "Exterior1st_Stone      -702.8301   2.49e+04     -0.028      0.977   -4.95e+04    4.81e+04\n",
      "Exterior1st_Stucco    -3183.7736   1.48e+04     -0.215      0.829   -3.22e+04    2.58e+04\n",
      "Exterior1st_VinylSd   -8094.0013   1.41e+04     -0.575      0.565   -3.57e+04    1.95e+04\n",
      "Exterior1st_Wd Sdng   -6628.4908   1.29e+04     -0.513      0.608    -3.2e+04    1.87e+04\n",
      "Exterior1st_WdShing   -1242.7894    1.4e+04     -0.089      0.929   -2.87e+04    2.62e+04\n",
      "Exterior2nd_AsphShn     889.3362   2.32e+04      0.038      0.969   -4.47e+04    4.65e+04\n",
      "Exterior2nd_Brk Cmn    5567.7273   2.16e+04      0.258      0.797   -3.68e+04    4.79e+04\n",
      "Exterior2nd_BrkFace   -2993.2754   1.37e+04     -0.219      0.827   -2.98e+04    2.38e+04\n",
      "Exterior2nd_CBlock    -6423.7519   1.34e+04     -0.481      0.631   -3.26e+04    1.98e+04\n",
      "Exterior2nd_CmentBd    1.011e+04   1.95e+04      0.519      0.604   -2.81e+04    4.83e+04\n",
      "Exterior2nd_HdBoard     587.2301   1.28e+04      0.046      0.963   -2.46e+04    2.57e+04\n",
      "Exterior2nd_ImStucc    2.228e+04   1.49e+04      1.495      0.135   -6950.131    5.15e+04\n",
      "Exterior2nd_MetalSd   -1322.7322   1.48e+04     -0.089      0.929   -3.04e+04    2.77e+04\n",
      "Exterior2nd_Other     -2.794e+04   2.87e+04     -0.975      0.330   -8.42e+04    2.83e+04\n",
      "Exterior2nd_Plywood     784.1888   1.24e+04      0.063      0.950   -2.36e+04    2.52e+04\n",
      "Exterior2nd_Stone     -6747.7403   1.78e+04     -0.379      0.705   -4.17e+04    2.82e+04\n",
      "Exterior2nd_Stucco     1623.7871   1.42e+04      0.115      0.909   -2.62e+04    2.94e+04\n",
      "Exterior2nd_VinylSd    4939.3767   1.35e+04      0.367      0.714   -2.15e+04    3.14e+04\n",
      "Exterior2nd_Wd Sdng    4732.1781   1.23e+04      0.384      0.701   -1.95e+04    2.89e+04\n",
      "Exterior2nd_Wd Shng   -4991.3370    1.3e+04     -0.385      0.701   -3.04e+04    2.05e+04\n",
      "MasVnrType_BrkFace     7725.1127   7018.753      1.101      0.271   -6044.830    2.15e+04\n",
      "MasVnrType_None        1.473e+04   7051.707      2.089      0.037     899.658    2.86e+04\n",
      "MasVnrType_Stone       1.496e+04   7449.848      2.008      0.045     342.002    2.96e+04\n",
      "Foundation_CBlock      2958.2185   3318.577      0.891      0.373   -3552.428    9468.865\n",
      "Foundation_PConc       3046.9923   3591.036      0.848      0.396   -3998.185    1.01e+04\n",
      "Foundation_Slab        1.245e+04   8357.651      1.490      0.137   -3946.095    2.88e+04\n",
      "Foundation_Stone       5296.1423   1.17e+04      0.452      0.651   -1.77e+04    2.83e+04\n",
      "Foundation_Wood       -2.755e+04   1.55e+04     -1.772      0.077   -5.81e+04    2953.968\n",
      "Heating_GasA          -9749.3607   2.61e+04     -0.373      0.709    -6.1e+04    4.15e+04\n",
      "Heating_GasW           -1.96e+04   2.69e+04     -0.728      0.467   -7.24e+04    3.32e+04\n",
      "Heating_Grav          -1.828e+04   2.82e+04     -0.648      0.517   -7.36e+04     3.7e+04\n",
      "Heating_OthW          -4.836e+04    3.2e+04     -1.513      0.130   -1.11e+05    1.43e+04\n",
      "Heating_Wall          -5202.8553   3.02e+04     -0.172      0.863   -6.44e+04     5.4e+04\n",
      "CentralAir_Y            -89.4052   4029.141     -0.022      0.982   -7994.092    7815.282\n",
      "Electrical_FuseF      -2177.2201   6046.450     -0.360      0.719    -1.4e+04    9685.184\n",
      "Electrical_FuseP      -1.137e+04   1.72e+04     -0.661      0.509   -4.51e+04    2.24e+04\n",
      "Electrical_Mix         4099.7101   2.62e+04      0.157      0.876   -4.73e+04    5.55e+04\n",
      "Electrical_SBrkr      -1869.1127   3143.786     -0.595      0.552   -8036.839    4298.614\n",
      "GarageType_Attchd      9855.8882   1.16e+04      0.847      0.397    -1.3e+04    3.27e+04\n",
      "GarageType_Basment     1.456e+04   1.35e+04      1.076      0.282    -1.2e+04    4.11e+04\n",
      "GarageType_BuiltIn     9889.4057   1.22e+04      0.814      0.416    -1.4e+04    3.37e+04\n",
      "GarageType_CarPort     4336.5312   1.51e+04      0.286      0.775   -2.54e+04     3.4e+04\n",
      "GarageType_Detchd        1.3e+04   1.16e+04      1.120      0.263   -9776.211    3.58e+04\n",
      "GarageType_None        1.128e+04   6382.118      1.767      0.077   -1242.987    2.38e+04\n",
      "GarageFinish_None      1.128e+04   6382.118      1.767      0.077   -1242.987    2.38e+04\n",
      "GarageFinish_RFn      -3713.7117   2057.523     -1.805      0.071   -7750.323     322.899\n",
      "GarageFinish_Unf        270.0721   2553.050      0.106      0.916   -4738.703    5278.847\n",
      "Fence_GdWo             8954.1132   5100.306      1.756      0.079   -1052.070     1.9e+04\n",
      "Fence_MnPrv            9794.6041   4159.965      2.354      0.019    1633.257     1.8e+04\n",
      "Fence_MnWw             3891.4094   8598.592      0.453      0.651    -1.3e+04    2.08e+04\n",
      "Fence_None             7122.5341   3799.932      1.874      0.061    -332.473    1.46e+04\n",
      "MiscFeature_None        1.22e+04   1.04e+05      0.118      0.906   -1.91e+05    2.15e+05\n",
      "MiscFeature_Othr       1.087e+04   9.39e+04      0.116      0.908   -1.73e+05    1.95e+05\n",
      "MiscFeature_Shed        1.14e+04   9.91e+04      0.115      0.908   -1.83e+05    2.06e+05\n",
      "MiscFeature_TenC      -9.241e+04   9.61e+04     -0.962      0.336   -2.81e+05    9.61e+04\n",
      "YrSold_2007           -2686.4669   2084.304     -1.289      0.198   -6775.620    1402.686\n",
      "YrSold_2008           -1859.3165   2231.682     -0.833      0.405   -6237.607    2518.974\n",
      "YrSold_2009           -5695.7513   2255.624     -2.525      0.012   -1.01e+04   -1270.491\n",
      "YrSold_2010           -6288.8192   2889.778     -2.176      0.030    -1.2e+04    -619.424\n",
      "SaleType_CWD           2.221e+04   1.35e+04      1.643      0.101   -4308.253    4.87e+04\n",
      "SaleType_Con           3.333e+04   1.85e+04      1.798      0.072   -3046.569    6.97e+04\n",
      "SaleType_ConLD         1.564e+04   1.03e+04      1.519      0.129   -4559.870    3.58e+04\n",
      "SaleType_ConLI         6392.2428   1.22e+04      0.523      0.601   -1.76e+04    3.04e+04\n",
      "SaleType_ConLw         2977.1314   1.25e+04      0.238      0.812   -2.16e+04    2.76e+04\n",
      "SaleType_New           4.192e+04   1.63e+04      2.576      0.010    9994.047    7.38e+04\n",
      "SaleType_Oth           1.256e+04   1.54e+04      0.817      0.414   -1.76e+04    4.27e+04\n",
      "SaleType_WD            -104.4606   4418.964     -0.024      0.981   -8773.933    8565.012\n",
      "SaleCondition_AdjLand  1.616e+04   1.51e+04      1.072      0.284   -1.34e+04    4.57e+04\n",
      "SaleCondition_Alloca   7348.1543   9282.121      0.792      0.429   -1.09e+04    2.56e+04\n",
      "SaleCondition_Family   -660.9236   6432.928     -0.103      0.918   -1.33e+04     1.2e+04\n",
      "SaleCondition_Normal   7912.6085   3036.157      2.606      0.009    1956.037    1.39e+04\n",
      "SaleCondition_Partial -1.011e+04   1.55e+04     -0.651      0.515   -4.06e+04    2.04e+04\n",
      "==============================================================================\n",
      "Omnibus:                      355.695   Durbin-Watson:                   1.879\n",
      "Prob(Omnibus):                  0.000   Jarque-Bera (JB):             7418.267\n",
      "Skew:                           0.597   Prob(JB):                         0.00\n",
      "Kurtosis:                      13.978   Cond. No.                     2.68e+18\n",
      "==============================================================================\n",
      "\n",
      "Notes:\n",
      "[1] Standard Errors assume that the covariance matrix of the errors is correctly specified.\n",
      "[2] The smallest eigenvalue is 5.03e-29. This might indicate that there are\n",
      "strong multicollinearity problems or that the design matrix is singular.\n"
     ]
    }
   ],
   "source": [
    "# Run ordinary least squares on all the features and report which\n",
    "# features have a 95%confidence interval that contains 0 and which do not. Comment on what this means.\n",
    "\n",
    "model = sm.OLS(Y, X).fit()\n",
    "model_prediction = model.predict(X)\n",
    "model_details = model.summary()\n",
    "print(model_details)"
   ]
  },
  {
   "cell_type": "code",
   "execution_count": 17,
   "id": "9f258242",
   "metadata": {},
   "outputs": [],
   "source": [
    "# function that returns values to dataframe so we can query \n",
    "def results_summary_to_dataframe(results):\n",
    "    '''take the result of an statsmodel results table and transforms it into a dataframe'''\n",
    "    pvals = results.pvalues\n",
    "    coeff = results.params\n",
    "    conf_lower = results.conf_int()[0]\n",
    "    conf_higher = results.conf_int()[1]\n",
    "\n",
    "    results_df = pd.DataFrame({\"pvals\":pvals,\n",
    "                               \"coeff\":coeff,\n",
    "                               \"conf_lower\":conf_lower,\n",
    "                               \"conf_higher\":conf_higher\n",
    "                                })\n",
    "\n",
    "    #Reordering...\n",
    "    results_df = results_df[[\"coeff\",\"pvals\",\"conf_lower\",\"conf_higher\"]]\n",
    "    return results_df"
   ]
  },
  {
   "cell_type": "code",
   "execution_count": 18,
   "id": "29230980",
   "metadata": {},
   "outputs": [
    {
     "data": {
      "text/html": [
       "<div>\n",
       "<style scoped>\n",
       "    .dataframe tbody tr th:only-of-type {\n",
       "        vertical-align: middle;\n",
       "    }\n",
       "\n",
       "    .dataframe tbody tr th {\n",
       "        vertical-align: top;\n",
       "    }\n",
       "\n",
       "    .dataframe thead th {\n",
       "        text-align: right;\n",
       "    }\n",
       "</style>\n",
       "<table border=\"1\" class=\"dataframe\">\n",
       "  <thead>\n",
       "    <tr style=\"text-align: right;\">\n",
       "      <th></th>\n",
       "      <th>coeff</th>\n",
       "      <th>pvals</th>\n",
       "      <th>conf_lower</th>\n",
       "      <th>conf_higher</th>\n",
       "    </tr>\n",
       "  </thead>\n",
       "  <tbody>\n",
       "    <tr>\n",
       "      <th>GarageCars</th>\n",
       "      <td>4590.701452</td>\n",
       "      <td>0.051280</td>\n",
       "      <td>-25.560819</td>\n",
       "      <td>9206.963722</td>\n",
       "    </tr>\n",
       "    <tr>\n",
       "      <th>Utilities</th>\n",
       "      <td>-56549.280807</td>\n",
       "      <td>0.059967</td>\n",
       "      <td>-115475.060623</td>\n",
       "      <td>2376.499008</td>\n",
       "    </tr>\n",
       "    <tr>\n",
       "      <th>GarageArea</th>\n",
       "      <td>3900.214864</td>\n",
       "      <td>0.062797</td>\n",
       "      <td>-208.539938</td>\n",
       "      <td>8008.969667</td>\n",
       "    </tr>\n",
       "    <tr>\n",
       "      <th>LotFrontage</th>\n",
       "      <td>1467.447262</td>\n",
       "      <td>0.072562</td>\n",
       "      <td>-134.547447</td>\n",
       "      <td>3069.441972</td>\n",
       "    </tr>\n",
       "    <tr>\n",
       "      <th>Fireplaces</th>\n",
       "      <td>2201.017856</td>\n",
       "      <td>0.118188</td>\n",
       "      <td>-560.802960</td>\n",
       "      <td>4962.838672</td>\n",
       "    </tr>\n",
       "    <tr>\n",
       "      <th>LotShape</th>\n",
       "      <td>2232.156350</td>\n",
       "      <td>0.185373</td>\n",
       "      <td>-1072.598159</td>\n",
       "      <td>5536.910859</td>\n",
       "    </tr>\n",
       "    <tr>\n",
       "      <th>HeatingQC</th>\n",
       "      <td>-2659.300611</td>\n",
       "      <td>0.204708</td>\n",
       "      <td>-6770.854055</td>\n",
       "      <td>1452.252834</td>\n",
       "    </tr>\n",
       "    <tr>\n",
       "      <th>FullBath</th>\n",
       "      <td>1870.094050</td>\n",
       "      <td>0.258395</td>\n",
       "      <td>-1374.674494</td>\n",
       "      <td>5114.862593</td>\n",
       "    </tr>\n",
       "    <tr>\n",
       "      <th>BsmtFinType1</th>\n",
       "      <td>1808.298460</td>\n",
       "      <td>0.293256</td>\n",
       "      <td>-1565.762012</td>\n",
       "      <td>5182.358931</td>\n",
       "    </tr>\n",
       "    <tr>\n",
       "      <th>ExterCond</th>\n",
       "      <td>832.878859</td>\n",
       "      <td>0.424182</td>\n",
       "      <td>-1211.032208</td>\n",
       "      <td>2876.789927</td>\n",
       "    </tr>\n",
       "    <tr>\n",
       "      <th>YearRemodAdd</th>\n",
       "      <td>1240.808705</td>\n",
       "      <td>0.590075</td>\n",
       "      <td>-3276.664142</td>\n",
       "      <td>5758.281553</td>\n",
       "    </tr>\n",
       "    <tr>\n",
       "      <th>BsmtCond</th>\n",
       "      <td>365.041724</td>\n",
       "      <td>0.643065</td>\n",
       "      <td>-1179.982854</td>\n",
       "      <td>1910.066302</td>\n",
       "    </tr>\n",
       "    <tr>\n",
       "      <th>LandSlope</th>\n",
       "      <td>1438.732589</td>\n",
       "      <td>0.690742</td>\n",
       "      <td>-5654.310655</td>\n",
       "      <td>8531.775832</td>\n",
       "    </tr>\n",
       "    <tr>\n",
       "      <th>BsmtHalfBath</th>\n",
       "      <td>-1108.797451</td>\n",
       "      <td>0.697799</td>\n",
       "      <td>-6709.775439</td>\n",
       "      <td>4492.180536</td>\n",
       "    </tr>\n",
       "    <tr>\n",
       "      <th>BsmtFinType2</th>\n",
       "      <td>-317.178707</td>\n",
       "      <td>0.711965</td>\n",
       "      <td>-2002.151223</td>\n",
       "      <td>1367.793809</td>\n",
       "    </tr>\n",
       "    <tr>\n",
       "      <th>HalfBath</th>\n",
       "      <td>390.575240</td>\n",
       "      <td>0.843139</td>\n",
       "      <td>-3480.970013</td>\n",
       "      <td>4262.120494</td>\n",
       "    </tr>\n",
       "    <tr>\n",
       "      <th>FireplaceQu</th>\n",
       "      <td>110.430655</td>\n",
       "      <td>0.867297</td>\n",
       "      <td>-1185.894929</td>\n",
       "      <td>1406.756239</td>\n",
       "    </tr>\n",
       "    <tr>\n",
       "      <th>GarageYrBlt</th>\n",
       "      <td>-364.549192</td>\n",
       "      <td>0.888019</td>\n",
       "      <td>-5442.636845</td>\n",
       "      <td>4713.538461</td>\n",
       "    </tr>\n",
       "    <tr>\n",
       "      <th>BsmtFullBath</th>\n",
       "      <td>-145.306728</td>\n",
       "      <td>0.924197</td>\n",
       "      <td>-3140.780317</td>\n",
       "      <td>2850.166861</td>\n",
       "    </tr>\n",
       "    <tr>\n",
       "      <th>Alley</th>\n",
       "      <td>-108.722085</td>\n",
       "      <td>0.972996</td>\n",
       "      <td>-6408.611207</td>\n",
       "      <td>6191.167037</td>\n",
       "    </tr>\n",
       "  </tbody>\n",
       "</table>\n",
       "</div>"
      ],
      "text/plain": [
       "                     coeff     pvals     conf_lower  conf_higher\n",
       "GarageCars     4590.701452  0.051280     -25.560819  9206.963722\n",
       "Utilities    -56549.280807  0.059967 -115475.060623  2376.499008\n",
       "GarageArea     3900.214864  0.062797    -208.539938  8008.969667\n",
       "LotFrontage    1467.447262  0.072562    -134.547447  3069.441972\n",
       "Fireplaces     2201.017856  0.118188    -560.802960  4962.838672\n",
       "LotShape       2232.156350  0.185373   -1072.598159  5536.910859\n",
       "HeatingQC     -2659.300611  0.204708   -6770.854055  1452.252834\n",
       "FullBath       1870.094050  0.258395   -1374.674494  5114.862593\n",
       "BsmtFinType1   1808.298460  0.293256   -1565.762012  5182.358931\n",
       "ExterCond       832.878859  0.424182   -1211.032208  2876.789927\n",
       "YearRemodAdd   1240.808705  0.590075   -3276.664142  5758.281553\n",
       "BsmtCond        365.041724  0.643065   -1179.982854  1910.066302\n",
       "LandSlope      1438.732589  0.690742   -5654.310655  8531.775832\n",
       "BsmtHalfBath  -1108.797451  0.697799   -6709.775439  4492.180536\n",
       "BsmtFinType2   -317.178707  0.711965   -2002.151223  1367.793809\n",
       "HalfBath        390.575240  0.843139   -3480.970013  4262.120494\n",
       "FireplaceQu     110.430655  0.867297   -1185.894929  1406.756239\n",
       "GarageYrBlt    -364.549192  0.888019   -5442.636845  4713.538461\n",
       "BsmtFullBath   -145.306728  0.924197   -3140.780317  2850.166861\n",
       "Alley          -108.722085  0.972996   -6408.611207  6191.167037"
      ]
     },
     "execution_count": 18,
     "metadata": {},
     "output_type": "execute_result"
    }
   ],
   "source": [
    "# Features that have a 95% confidence interval that contains 0 \n",
    "results_df = results_summary_to_dataframe(model)\n",
    "results_df[(0 <= results_df['conf_higher']) & (results_df['conf_lower'] <= 0)].head(20).sort_values(by='pvals',ascending=True)"
   ]
  },
  {
   "cell_type": "code",
   "execution_count": 19,
   "id": "f707c797",
   "metadata": {},
   "outputs": [
    {
     "name": "stdout",
     "output_type": "stream",
     "text": [
      "Number of variables that have 0 in the confidence interval:  172\n"
     ]
    }
   ],
   "source": [
    "print(\"Number of variables that have 0 in the confidence interval: \", len(results_df[(0 <= results_df['conf_higher']) & (results_df['conf_lower'] <= 0)].sort_values(by='pvals',ascending=True)))"
   ]
  },
  {
   "cell_type": "code",
   "execution_count": 20,
   "id": "d8a75c3f",
   "metadata": {},
   "outputs": [
    {
     "name": "stdout",
     "output_type": "stream",
     "text": [
      "Number of variables that do not have 0 in the confidence interval:  56\n"
     ]
    }
   ],
   "source": [
    "print(\"Number of variables that do not have 0 in the confidence interval: \", len(results_df[((0 >= results_df['conf_higher']) | (results_df['conf_lower'] >= 0))].sort_values(by='pvals',ascending=True)))"
   ]
  },
  {
   "cell_type": "code",
   "execution_count": 21,
   "id": "96f1b8af",
   "metadata": {},
   "outputs": [
    {
     "data": {
      "text/plain": [
       "56"
      ]
     },
     "execution_count": 21,
     "metadata": {},
     "output_type": "execute_result"
    }
   ],
   "source": [
    "results_df# Features that have a 95% confidence interval that contains 0 and p value less than 0.05\n",
    "results_df = results_summary_to_dataframe(model)\n",
    "len(results_df[((0 >= results_df['conf_higher']) | (results_df['conf_lower'] >= 0)) & (results_df['pvals'] <= 0.05)].sort_values(by='pvals',ascending=True))"
   ]
  },
  {
   "cell_type": "code",
   "execution_count": 22,
   "id": "c49a0ef9",
   "metadata": {},
   "outputs": [
    {
     "data": {
      "text/html": [
       "<div>\n",
       "<style scoped>\n",
       "    .dataframe tbody tr th:only-of-type {\n",
       "        vertical-align: middle;\n",
       "    }\n",
       "\n",
       "    .dataframe tbody tr th {\n",
       "        vertical-align: top;\n",
       "    }\n",
       "\n",
       "    .dataframe thead th {\n",
       "        text-align: right;\n",
       "    }\n",
       "</style>\n",
       "<table border=\"1\" class=\"dataframe\">\n",
       "  <thead>\n",
       "    <tr style=\"text-align: right;\">\n",
       "      <th></th>\n",
       "      <th>coeff</th>\n",
       "      <th>pvals</th>\n",
       "      <th>conf_lower</th>\n",
       "      <th>conf_higher</th>\n",
       "    </tr>\n",
       "  </thead>\n",
       "  <tbody>\n",
       "    <tr>\n",
       "      <th>RoofMatl_WdShngl</th>\n",
       "      <td>7.211741e+05</td>\n",
       "      <td>1.752409e-75</td>\n",
       "      <td>6.494112e+05</td>\n",
       "      <td>7.929371e+05</td>\n",
       "    </tr>\n",
       "    <tr>\n",
       "      <th>RoofMatl_CompShg</th>\n",
       "      <td>6.398820e+05</td>\n",
       "      <td>4.019737e-65</td>\n",
       "      <td>5.705021e+05</td>\n",
       "      <td>7.092620e+05</td>\n",
       "    </tr>\n",
       "    <tr>\n",
       "      <th>RoofMatl_Tar&amp;Grv</th>\n",
       "      <td>6.348992e+05</td>\n",
       "      <td>3.647783e-52</td>\n",
       "      <td>5.567438e+05</td>\n",
       "      <td>7.130546e+05</td>\n",
       "    </tr>\n",
       "    <tr>\n",
       "      <th>RoofMatl_WdShake</th>\n",
       "      <td>6.127917e+05</td>\n",
       "      <td>1.064398e-50</td>\n",
       "      <td>5.361293e+05</td>\n",
       "      <td>6.894541e+05</td>\n",
       "    </tr>\n",
       "    <tr>\n",
       "      <th>RoofMatl_Membran</th>\n",
       "      <td>6.820382e+05</td>\n",
       "      <td>1.730827e-42</td>\n",
       "      <td>5.877728e+05</td>\n",
       "      <td>7.763037e+05</td>\n",
       "    </tr>\n",
       "    <tr>\n",
       "      <th>RoofMatl_Roll</th>\n",
       "      <td>6.260054e+05</td>\n",
       "      <td>2.578325e-42</td>\n",
       "      <td>5.392858e+05</td>\n",
       "      <td>7.127251e+05</td>\n",
       "    </tr>\n",
       "    <tr>\n",
       "      <th>RoofMatl_Metal</th>\n",
       "      <td>6.608286e+05</td>\n",
       "      <td>3.311917e-39</td>\n",
       "      <td>5.652824e+05</td>\n",
       "      <td>7.563749e+05</td>\n",
       "    </tr>\n",
       "    <tr>\n",
       "      <th>Condition2_PosN</th>\n",
       "      <td>-2.526581e+05</td>\n",
       "      <td>4.330174e-16</td>\n",
       "      <td>-3.128128e+05</td>\n",
       "      <td>-1.925034e+05</td>\n",
       "    </tr>\n",
       "    <tr>\n",
       "      <th>OverallQual</th>\n",
       "      <td>1.551180e+04</td>\n",
       "      <td>3.395345e-13</td>\n",
       "      <td>1.137565e+04</td>\n",
       "      <td>1.964795e+04</td>\n",
       "    </tr>\n",
       "    <tr>\n",
       "      <th>MSSubClass_150</th>\n",
       "      <td>8.325454e-09</td>\n",
       "      <td>7.766201e-13</td>\n",
       "      <td>6.069913e-09</td>\n",
       "      <td>1.058099e-08</td>\n",
       "    </tr>\n",
       "    <tr>\n",
       "      <th>OverallCond</th>\n",
       "      <td>5.217126e+03</td>\n",
       "      <td>2.576519e-09</td>\n",
       "      <td>3.511407e+03</td>\n",
       "      <td>6.922846e+03</td>\n",
       "    </tr>\n",
       "    <tr>\n",
       "      <th>LotArea</th>\n",
       "      <td>2.169308e+03</td>\n",
       "      <td>2.541162e-08</td>\n",
       "      <td>1.410217e+03</td>\n",
       "      <td>2.928399e+03</td>\n",
       "    </tr>\n",
       "    <tr>\n",
       "      <th>KitchenQual</th>\n",
       "      <td>-6.237039e+03</td>\n",
       "      <td>2.045314e-07</td>\n",
       "      <td>-8.579082e+03</td>\n",
       "      <td>-3.894995e+03</td>\n",
       "    </tr>\n",
       "    <tr>\n",
       "      <th>MasVnrArea</th>\n",
       "      <td>5.079731e+03</td>\n",
       "      <td>3.151376e-07</td>\n",
       "      <td>3.141721e+03</td>\n",
       "      <td>7.017742e+03</td>\n",
       "    </tr>\n",
       "    <tr>\n",
       "      <th>Functional</th>\n",
       "      <td>3.996176e+03</td>\n",
       "      <td>7.293238e-07</td>\n",
       "      <td>2.421561e+03</td>\n",
       "      <td>5.570791e+03</td>\n",
       "    </tr>\n",
       "    <tr>\n",
       "      <th>YearBuilt</th>\n",
       "      <td>7.821170e+04</td>\n",
       "      <td>1.145452e-06</td>\n",
       "      <td>4.682751e+04</td>\n",
       "      <td>1.095959e+05</td>\n",
       "    </tr>\n",
       "    <tr>\n",
       "      <th>TotalBsmtSF</th>\n",
       "      <td>8.079613e+04</td>\n",
       "      <td>1.431520e-06</td>\n",
       "      <td>4.807422e+04</td>\n",
       "      <td>1.135180e+05</td>\n",
       "    </tr>\n",
       "    <tr>\n",
       "      <th>GrLivArea</th>\n",
       "      <td>5.253962e+05</td>\n",
       "      <td>2.721775e-06</td>\n",
       "      <td>3.066718e+05</td>\n",
       "      <td>7.441206e+05</td>\n",
       "    </tr>\n",
       "    <tr>\n",
       "      <th>totalSqFeet</th>\n",
       "      <td>4.207818e+05</td>\n",
       "      <td>2.794138e-06</td>\n",
       "      <td>2.454062e+05</td>\n",
       "      <td>5.961575e+05</td>\n",
       "    </tr>\n",
       "    <tr>\n",
       "      <th>BsmtUnfSF</th>\n",
       "      <td>-3.335987e+05</td>\n",
       "      <td>3.786508e-06</td>\n",
       "      <td>-4.745380e+05</td>\n",
       "      <td>-1.926593e+05</td>\n",
       "    </tr>\n",
       "    <tr>\n",
       "      <th>LowQualFinSF</th>\n",
       "      <td>-8.334969e+02</td>\n",
       "      <td>4.094490e-06</td>\n",
       "      <td>-1.186886e+03</td>\n",
       "      <td>-4.801074e+02</td>\n",
       "    </tr>\n",
       "    <tr>\n",
       "      <th>BsmtFinSF2</th>\n",
       "      <td>-5.622641e+02</td>\n",
       "      <td>5.338090e-06</td>\n",
       "      <td>-8.035865e+02</td>\n",
       "      <td>-3.209418e+02</td>\n",
       "    </tr>\n",
       "    <tr>\n",
       "      <th>1stFlrSF</th>\n",
       "      <td>-6.271060e+05</td>\n",
       "      <td>6.263488e-06</td>\n",
       "      <td>-8.982858e+05</td>\n",
       "      <td>-3.559261e+05</td>\n",
       "    </tr>\n",
       "    <tr>\n",
       "      <th>2ndFlrSF</th>\n",
       "      <td>-8.540006e+05</td>\n",
       "      <td>8.055618e-06</td>\n",
       "      <td>-1.227767e+06</td>\n",
       "      <td>-4.802342e+05</td>\n",
       "    </tr>\n",
       "    <tr>\n",
       "      <th>BsmtFinSF1</th>\n",
       "      <td>-4.010388e+05</td>\n",
       "      <td>9.026710e-06</td>\n",
       "      <td>-5.775335e+05</td>\n",
       "      <td>-2.245441e+05</td>\n",
       "    </tr>\n",
       "    <tr>\n",
       "      <th>ExterQual</th>\n",
       "      <td>-7.483158e+03</td>\n",
       "      <td>9.159610e-06</td>\n",
       "      <td>-1.077880e+04</td>\n",
       "      <td>-4.187512e+03</td>\n",
       "    </tr>\n",
       "    <tr>\n",
       "      <th>houseAge</th>\n",
       "      <td>6.573816e+04</td>\n",
       "      <td>3.857708e-05</td>\n",
       "      <td>3.451634e+04</td>\n",
       "      <td>9.695997e+04</td>\n",
       "    </tr>\n",
       "    <tr>\n",
       "      <th>Neighborhood_StoneBr</th>\n",
       "      <td>3.523047e+04</td>\n",
       "      <td>7.398254e-05</td>\n",
       "      <td>1.784883e+04</td>\n",
       "      <td>5.261211e+04</td>\n",
       "    </tr>\n",
       "    <tr>\n",
       "      <th>BedroomAbvGr</th>\n",
       "      <td>-5.704977e+03</td>\n",
       "      <td>1.038313e-04</td>\n",
       "      <td>-8.579214e+03</td>\n",
       "      <td>-2.830740e+03</td>\n",
       "    </tr>\n",
       "    <tr>\n",
       "      <th>ScreenPorch</th>\n",
       "      <td>4.853414e+01</td>\n",
       "      <td>1.920260e-04</td>\n",
       "      <td>2.307830e+01</td>\n",
       "      <td>7.398998e+01</td>\n",
       "    </tr>\n",
       "    <tr>\n",
       "      <th>BsmtExposure</th>\n",
       "      <td>-2.667602e+03</td>\n",
       "      <td>4.209729e-04</td>\n",
       "      <td>-4.147605e+03</td>\n",
       "      <td>-1.187600e+03</td>\n",
       "    </tr>\n",
       "    <tr>\n",
       "      <th>isNew</th>\n",
       "      <td>-1.553696e+04</td>\n",
       "      <td>1.063806e-03</td>\n",
       "      <td>-2.482779e+04</td>\n",
       "      <td>-6.246133e+03</td>\n",
       "    </tr>\n",
       "    <tr>\n",
       "      <th>LotConfig_CulDSac</th>\n",
       "      <td>1.118720e+04</td>\n",
       "      <td>1.247861e-03</td>\n",
       "      <td>4.402999e+03</td>\n",
       "      <td>1.797139e+04</td>\n",
       "    </tr>\n",
       "    <tr>\n",
       "      <th>Condition1_Norm</th>\n",
       "      <td>1.339270e+04</td>\n",
       "      <td>2.028304e-03</td>\n",
       "      <td>4.896707e+03</td>\n",
       "      <td>2.188870e+04</td>\n",
       "    </tr>\n",
       "    <tr>\n",
       "      <th>BsmtQual</th>\n",
       "      <td>-5.348327e+03</td>\n",
       "      <td>3.205314e-03</td>\n",
       "      <td>-8.901469e+03</td>\n",
       "      <td>-1.795185e+03</td>\n",
       "    </tr>\n",
       "    <tr>\n",
       "      <th>Neighborhood_NridgHt</th>\n",
       "      <td>2.281395e+04</td>\n",
       "      <td>4.059813e-03</td>\n",
       "      <td>7.266688e+03</td>\n",
       "      <td>3.836120e+04</td>\n",
       "    </tr>\n",
       "    <tr>\n",
       "      <th>LandContour_HLS</th>\n",
       "      <td>1.535876e+04</td>\n",
       "      <td>4.512799e-03</td>\n",
       "      <td>4.767898e+03</td>\n",
       "      <td>2.594962e+04</td>\n",
       "    </tr>\n",
       "    <tr>\n",
       "      <th>TotRmsAbvGrd</th>\n",
       "      <td>5.372311e+03</td>\n",
       "      <td>7.272609e-03</td>\n",
       "      <td>1.452038e+03</td>\n",
       "      <td>9.292584e+03</td>\n",
       "    </tr>\n",
       "    <tr>\n",
       "      <th>SaleCondition_Normal</th>\n",
       "      <td>7.912608e+03</td>\n",
       "      <td>9.266993e-03</td>\n",
       "      <td>1.956037e+03</td>\n",
       "      <td>1.386918e+04</td>\n",
       "    </tr>\n",
       "    <tr>\n",
       "      <th>SaleType_New</th>\n",
       "      <td>4.191951e+04</td>\n",
       "      <td>1.010905e-02</td>\n",
       "      <td>9.994047e+03</td>\n",
       "      <td>7.384498e+04</td>\n",
       "    </tr>\n",
       "    <tr>\n",
       "      <th>MSZoning_RM</th>\n",
       "      <td>2.623137e+04</td>\n",
       "      <td>1.035948e-02</td>\n",
       "      <td>6.187544e+03</td>\n",
       "      <td>4.627519e+04</td>\n",
       "    </tr>\n",
       "    <tr>\n",
       "      <th>YrSold_2009</th>\n",
       "      <td>-5.695751e+03</td>\n",
       "      <td>1.168928e-02</td>\n",
       "      <td>-1.012101e+04</td>\n",
       "      <td>-1.270491e+03</td>\n",
       "    </tr>\n",
       "    <tr>\n",
       "      <th>Street</th>\n",
       "      <td>3.056129e+04</td>\n",
       "      <td>1.250538e-02</td>\n",
       "      <td>6.589799e+03</td>\n",
       "      <td>5.453278e+04</td>\n",
       "    </tr>\n",
       "    <tr>\n",
       "      <th>MSZoning_FV</th>\n",
       "      <td>3.144232e+04</td>\n",
       "      <td>1.339850e-02</td>\n",
       "      <td>6.534276e+03</td>\n",
       "      <td>5.635036e+04</td>\n",
       "    </tr>\n",
       "    <tr>\n",
       "      <th>MSZoning_RL</th>\n",
       "      <td>2.670362e+04</td>\n",
       "      <td>1.405532e-02</td>\n",
       "      <td>5.401388e+03</td>\n",
       "      <td>4.800584e+04</td>\n",
       "    </tr>\n",
       "    <tr>\n",
       "      <th>WoodDeckSF</th>\n",
       "      <td>2.425597e+03</td>\n",
       "      <td>1.851778e-02</td>\n",
       "      <td>4.076575e+02</td>\n",
       "      <td>4.443537e+03</td>\n",
       "    </tr>\n",
       "    <tr>\n",
       "      <th>Fence_MnPrv</th>\n",
       "      <td>9.794604e+03</td>\n",
       "      <td>1.870326e-02</td>\n",
       "      <td>1.633257e+03</td>\n",
       "      <td>1.795595e+04</td>\n",
       "    </tr>\n",
       "    <tr>\n",
       "      <th>KitchenAbvGr</th>\n",
       "      <td>-1.434795e+04</td>\n",
       "      <td>2.400866e-02</td>\n",
       "      <td>-2.680452e+04</td>\n",
       "      <td>-1.891382e+03</td>\n",
       "    </tr>\n",
       "    <tr>\n",
       "      <th>YrSold_2010</th>\n",
       "      <td>-6.288819e+03</td>\n",
       "      <td>2.972639e-02</td>\n",
       "      <td>-1.195821e+04</td>\n",
       "      <td>-6.194239e+02</td>\n",
       "    </tr>\n",
       "    <tr>\n",
       "      <th>Neighborhood_NoRidge</th>\n",
       "      <td>1.933429e+04</td>\n",
       "      <td>3.082229e-02</td>\n",
       "      <td>1.788238e+03</td>\n",
       "      <td>3.688034e+04</td>\n",
       "    </tr>\n",
       "    <tr>\n",
       "      <th>Neighborhood_NWAmes</th>\n",
       "      <td>-1.824288e+04</td>\n",
       "      <td>3.211019e-02</td>\n",
       "      <td>-3.492480e+04</td>\n",
       "      <td>-1.560955e+03</td>\n",
       "    </tr>\n",
       "    <tr>\n",
       "      <th>PoolQC</th>\n",
       "      <td>-2.631767e+04</td>\n",
       "      <td>3.441085e-02</td>\n",
       "      <td>-5.070047e+04</td>\n",
       "      <td>-1.934864e+03</td>\n",
       "    </tr>\n",
       "    <tr>\n",
       "      <th>MSZoning_RH</th>\n",
       "      <td>2.663170e+04</td>\n",
       "      <td>3.562090e-02</td>\n",
       "      <td>1.793313e+03</td>\n",
       "      <td>5.147009e+04</td>\n",
       "    </tr>\n",
       "    <tr>\n",
       "      <th>MasVnrType_None</th>\n",
       "      <td>1.473425e+04</td>\n",
       "      <td>3.686982e-02</td>\n",
       "      <td>8.996578e+02</td>\n",
       "      <td>2.856885e+04</td>\n",
       "    </tr>\n",
       "    <tr>\n",
       "      <th>MoSold</th>\n",
       "      <td>-2.177189e+03</td>\n",
       "      <td>4.250932e-02</td>\n",
       "      <td>-4.280702e+03</td>\n",
       "      <td>-7.367491e+01</td>\n",
       "    </tr>\n",
       "    <tr>\n",
       "      <th>MasVnrType_Stone</th>\n",
       "      <td>1.495770e+04</td>\n",
       "      <td>4.488262e-02</td>\n",
       "      <td>3.420019e+02</td>\n",
       "      <td>2.957340e+04</td>\n",
       "    </tr>\n",
       "  </tbody>\n",
       "</table>\n",
       "</div>"
      ],
      "text/plain": [
       "                             coeff         pvals    conf_lower   conf_higher\n",
       "RoofMatl_WdShngl      7.211741e+05  1.752409e-75  6.494112e+05  7.929371e+05\n",
       "RoofMatl_CompShg      6.398820e+05  4.019737e-65  5.705021e+05  7.092620e+05\n",
       "RoofMatl_Tar&Grv      6.348992e+05  3.647783e-52  5.567438e+05  7.130546e+05\n",
       "RoofMatl_WdShake      6.127917e+05  1.064398e-50  5.361293e+05  6.894541e+05\n",
       "RoofMatl_Membran      6.820382e+05  1.730827e-42  5.877728e+05  7.763037e+05\n",
       "RoofMatl_Roll         6.260054e+05  2.578325e-42  5.392858e+05  7.127251e+05\n",
       "RoofMatl_Metal        6.608286e+05  3.311917e-39  5.652824e+05  7.563749e+05\n",
       "Condition2_PosN      -2.526581e+05  4.330174e-16 -3.128128e+05 -1.925034e+05\n",
       "OverallQual           1.551180e+04  3.395345e-13  1.137565e+04  1.964795e+04\n",
       "MSSubClass_150        8.325454e-09  7.766201e-13  6.069913e-09  1.058099e-08\n",
       "OverallCond           5.217126e+03  2.576519e-09  3.511407e+03  6.922846e+03\n",
       "LotArea               2.169308e+03  2.541162e-08  1.410217e+03  2.928399e+03\n",
       "KitchenQual          -6.237039e+03  2.045314e-07 -8.579082e+03 -3.894995e+03\n",
       "MasVnrArea            5.079731e+03  3.151376e-07  3.141721e+03  7.017742e+03\n",
       "Functional            3.996176e+03  7.293238e-07  2.421561e+03  5.570791e+03\n",
       "YearBuilt             7.821170e+04  1.145452e-06  4.682751e+04  1.095959e+05\n",
       "TotalBsmtSF           8.079613e+04  1.431520e-06  4.807422e+04  1.135180e+05\n",
       "GrLivArea             5.253962e+05  2.721775e-06  3.066718e+05  7.441206e+05\n",
       "totalSqFeet           4.207818e+05  2.794138e-06  2.454062e+05  5.961575e+05\n",
       "BsmtUnfSF            -3.335987e+05  3.786508e-06 -4.745380e+05 -1.926593e+05\n",
       "LowQualFinSF         -8.334969e+02  4.094490e-06 -1.186886e+03 -4.801074e+02\n",
       "BsmtFinSF2           -5.622641e+02  5.338090e-06 -8.035865e+02 -3.209418e+02\n",
       "1stFlrSF             -6.271060e+05  6.263488e-06 -8.982858e+05 -3.559261e+05\n",
       "2ndFlrSF             -8.540006e+05  8.055618e-06 -1.227767e+06 -4.802342e+05\n",
       "BsmtFinSF1           -4.010388e+05  9.026710e-06 -5.775335e+05 -2.245441e+05\n",
       "ExterQual            -7.483158e+03  9.159610e-06 -1.077880e+04 -4.187512e+03\n",
       "houseAge              6.573816e+04  3.857708e-05  3.451634e+04  9.695997e+04\n",
       "Neighborhood_StoneBr  3.523047e+04  7.398254e-05  1.784883e+04  5.261211e+04\n",
       "BedroomAbvGr         -5.704977e+03  1.038313e-04 -8.579214e+03 -2.830740e+03\n",
       "ScreenPorch           4.853414e+01  1.920260e-04  2.307830e+01  7.398998e+01\n",
       "BsmtExposure         -2.667602e+03  4.209729e-04 -4.147605e+03 -1.187600e+03\n",
       "isNew                -1.553696e+04  1.063806e-03 -2.482779e+04 -6.246133e+03\n",
       "LotConfig_CulDSac     1.118720e+04  1.247861e-03  4.402999e+03  1.797139e+04\n",
       "Condition1_Norm       1.339270e+04  2.028304e-03  4.896707e+03  2.188870e+04\n",
       "BsmtQual             -5.348327e+03  3.205314e-03 -8.901469e+03 -1.795185e+03\n",
       "Neighborhood_NridgHt  2.281395e+04  4.059813e-03  7.266688e+03  3.836120e+04\n",
       "LandContour_HLS       1.535876e+04  4.512799e-03  4.767898e+03  2.594962e+04\n",
       "TotRmsAbvGrd          5.372311e+03  7.272609e-03  1.452038e+03  9.292584e+03\n",
       "SaleCondition_Normal  7.912608e+03  9.266993e-03  1.956037e+03  1.386918e+04\n",
       "SaleType_New          4.191951e+04  1.010905e-02  9.994047e+03  7.384498e+04\n",
       "MSZoning_RM           2.623137e+04  1.035948e-02  6.187544e+03  4.627519e+04\n",
       "YrSold_2009          -5.695751e+03  1.168928e-02 -1.012101e+04 -1.270491e+03\n",
       "Street                3.056129e+04  1.250538e-02  6.589799e+03  5.453278e+04\n",
       "MSZoning_FV           3.144232e+04  1.339850e-02  6.534276e+03  5.635036e+04\n",
       "MSZoning_RL           2.670362e+04  1.405532e-02  5.401388e+03  4.800584e+04\n",
       "WoodDeckSF            2.425597e+03  1.851778e-02  4.076575e+02  4.443537e+03\n",
       "Fence_MnPrv           9.794604e+03  1.870326e-02  1.633257e+03  1.795595e+04\n",
       "KitchenAbvGr         -1.434795e+04  2.400866e-02 -2.680452e+04 -1.891382e+03\n",
       "YrSold_2010          -6.288819e+03  2.972639e-02 -1.195821e+04 -6.194239e+02\n",
       "Neighborhood_NoRidge  1.933429e+04  3.082229e-02  1.788238e+03  3.688034e+04\n",
       "Neighborhood_NWAmes  -1.824288e+04  3.211019e-02 -3.492480e+04 -1.560955e+03\n",
       "PoolQC               -2.631767e+04  3.441085e-02 -5.070047e+04 -1.934864e+03\n",
       "MSZoning_RH           2.663170e+04  3.562090e-02  1.793313e+03  5.147009e+04\n",
       "MasVnrType_None       1.473425e+04  3.686982e-02  8.996578e+02  2.856885e+04\n",
       "MoSold               -2.177189e+03  4.250932e-02 -4.280702e+03 -7.367491e+01\n",
       "MasVnrType_Stone      1.495770e+04  4.488262e-02  3.420019e+02  2.957340e+04"
      ]
     },
     "execution_count": 22,
     "metadata": {},
     "output_type": "execute_result"
    }
   ],
   "source": [
    "results_df[((0 >= results_df['conf_higher']) | (results_df['conf_lower'] >= 0)) & (results_df['pvals'] <= 0.05)].head(56).sort_values(by='pvals',ascending=True)"
   ]
  },
  {
   "cell_type": "code",
   "execution_count": 23,
   "id": "1b0a8e16",
   "metadata": {},
   "outputs": [
    {
     "data": {
      "text/plain": [
       "array(['RoofMatl_WdShngl', 'RoofMatl_CompShg', 'RoofMatl_Tar&Grv',\n",
       "       'RoofMatl_WdShake', 'RoofMatl_Membran', 'RoofMatl_Roll',\n",
       "       'RoofMatl_Metal', 'Condition2_PosN', 'OverallQual',\n",
       "       'MSSubClass_150', 'OverallCond', 'LotArea', 'KitchenQual',\n",
       "       'MasVnrArea', 'Functional', 'YearBuilt', 'TotalBsmtSF',\n",
       "       'GrLivArea', 'totalSqFeet', 'BsmtUnfSF', 'LowQualFinSF',\n",
       "       'BsmtFinSF2', '1stFlrSF', '2ndFlrSF', 'BsmtFinSF1', 'ExterQual',\n",
       "       'houseAge', 'Neighborhood_StoneBr', 'BedroomAbvGr', 'ScreenPorch',\n",
       "       'BsmtExposure', 'isNew', 'LotConfig_CulDSac', 'Condition1_Norm',\n",
       "       'BsmtQual', 'Neighborhood_NridgHt', 'LandContour_HLS',\n",
       "       'TotRmsAbvGrd', 'SaleCondition_Normal', 'SaleType_New',\n",
       "       'MSZoning_RM', 'YrSold_2009', 'Street', 'MSZoning_FV',\n",
       "       'MSZoning_RL', 'WoodDeckSF', 'Fence_MnPrv', 'KitchenAbvGr',\n",
       "       'YrSold_2010', 'Neighborhood_NoRidge', 'Neighborhood_NWAmes',\n",
       "       'PoolQC', 'MSZoning_RH', 'MasVnrType_None', 'MoSold',\n",
       "       'MasVnrType_Stone'], dtype=object)"
      ]
     },
     "execution_count": 23,
     "metadata": {},
     "output_type": "execute_result"
    }
   ],
   "source": [
    "# define all the significant features \n",
    "significant_features = results_df[((0 >= results_df['conf_higher']) | (results_df['conf_lower'] >= 0)) & (results_df['pvals'] <= 0.05)].head(20).sort_values(by='pvals',ascending=True).index.values\n",
    "results_df[((0 >= results_df['conf_higher']) | (results_df['conf_lower'] >= 0)) & (results_df['pvals'] <= 0.05)].sort_values(by='pvals',ascending=True).index.values"
   ]
  },
  {
   "cell_type": "markdown",
   "id": "43d8a141",
   "metadata": {},
   "source": [
    "# Ordinary Least Squares Model"
   ]
  },
  {
   "cell_type": "code",
   "execution_count": 24,
   "id": "3f9a852b",
   "metadata": {},
   "outputs": [],
   "source": [
    "# Split the training data into a training (80%) and test set (20%)\n",
    "X_train, X_test, y_train, y_test = train_test_split(X, Y, train_size=0.8, random_state = 786)"
   ]
  },
  {
   "cell_type": "code",
   "execution_count": 25,
   "id": "148f7181",
   "metadata": {},
   "outputs": [
    {
     "name": "stdout",
     "output_type": "stream",
     "text": [
      "The number of features in OLS model is 228\n"
     ]
    }
   ],
   "source": [
    "print(\"The number of features in OLS model is\", len(X_train.columns))"
   ]
  },
  {
   "cell_type": "code",
   "execution_count": 26,
   "id": "6c482ac9",
   "metadata": {},
   "outputs": [
    {
     "name": "stdout",
     "output_type": "stream",
     "text": [
      "                            OLS Regression Results                            \n",
      "==============================================================================\n",
      "Dep. Variable:              SalePrice   R-squared:                       0.932\n",
      "Model:                            OLS   Adj. R-squared:                  0.917\n",
      "Method:                 Least Squares   F-statistic:                     60.30\n",
      "Date:                Wed, 06 Oct 2021   Prob (F-statistic):               0.00\n",
      "Time:                        17:40:47   Log-Likelihood:                -13286.\n",
      "No. Observations:                1168   AIC:                         2.701e+04\n",
      "Df Residuals:                     950   BIC:                         2.811e+04\n",
      "Df Model:                         217                                         \n",
      "Covariance Type:            nonrobust                                         \n",
      "=========================================================================================\n",
      "                            coef    std err          t      P>|t|      [0.025      0.975]\n",
      "-----------------------------------------------------------------------------------------\n",
      "LotFrontage             797.2546    966.887      0.825      0.410   -1100.226    2694.735\n",
      "LotArea                2410.3122    404.802      5.954      0.000    1615.903    3204.722\n",
      "Street                  2.61e+04   1.24e+04      2.104      0.036    1760.355    5.04e+04\n",
      "Alley                   -85.3739   3634.643     -0.023      0.981   -7218.230    7047.482\n",
      "LotShape                560.8350   1874.979      0.299      0.765   -3118.744    4240.413\n",
      "Utilities             -3.795e+04   3.04e+04     -1.248      0.212   -9.76e+04    2.17e+04\n",
      "LandSlope             -1282.1821   4181.352     -0.307      0.759   -9487.935    6923.571\n",
      "OverallQual            1.496e+04   2323.575      6.440      0.000    1.04e+04    1.95e+04\n",
      "OverallCond            5129.6010    970.179      5.287      0.000    3225.660    7033.542\n",
      "YearBuilt              4.515e+04   7610.851      5.932      0.000    3.02e+04    6.01e+04\n",
      "YearRemodAdd           3397.2692   2531.862      1.342      0.180   -1571.420    8365.958\n",
      "MasVnrArea             4959.9410   1204.169      4.119      0.000    2596.802    7323.081\n",
      "ExterQual             -7984.1946   1787.176     -4.467      0.000   -1.15e+04   -4476.925\n",
      "ExterCond              1796.4573   1151.368      1.560      0.119    -463.061    4055.976\n",
      "BsmtQual              -5410.5252   2013.762     -2.687      0.007   -9362.460   -1458.590\n",
      "BsmtCond                313.4805    891.137      0.352      0.725   -1435.345    2062.306\n",
      "BsmtExposure          -1895.2825    824.898     -2.298      0.022   -3514.116    -276.449\n",
      "BsmtFinType1           2741.7434   1870.075      1.466      0.143    -928.211    6411.698\n",
      "BsmtFinSF1            -2.116e+05   4.07e+04     -5.198      0.000   -2.92e+05   -1.32e+05\n",
      "BsmtFinType2           -939.5834    924.369     -1.016      0.310   -2753.625     874.458\n",
      "BsmtFinSF2             -313.5866     56.089     -5.591      0.000    -423.660    -203.513\n",
      "BsmtUnfSF             -1.851e+05   3.26e+04     -5.683      0.000   -2.49e+05   -1.21e+05\n",
      "TotalBsmtSF            4.736e+04   7742.652      6.117      0.000    3.22e+04    6.26e+04\n",
      "HeatingQC             -2328.5808   2317.681     -1.005      0.315   -6876.946    2219.784\n",
      "1stFlrSF              -3.358e+05   6.25e+04     -5.371      0.000   -4.58e+05   -2.13e+05\n",
      "2ndFlrSF              -4.583e+05   8.63e+04     -5.309      0.000   -6.28e+05   -2.89e+05\n",
      "LowQualFinSF           -454.8966     82.552     -5.510      0.000    -616.902    -292.891\n",
      "GrLivArea               2.94e+05   5.06e+04      5.814      0.000    1.95e+05    3.93e+05\n",
      "BsmtFullBath          -1192.6286   1716.324     -0.695      0.487   -4560.853    2175.596\n",
      "BsmtHalfBath           -214.7131   3268.574     -0.066      0.948   -6629.172    6199.746\n",
      "FullBath               1926.1594   1895.618      1.016      0.310   -1793.923    5646.242\n",
      "HalfBath               1368.6069   2193.316      0.624      0.533   -2935.698    5672.912\n",
      "BedroomAbvGr          -7487.6708   1632.659     -4.586      0.000   -1.07e+04   -4283.636\n",
      "KitchenAbvGr          -1.881e+04   7581.533     -2.481      0.013   -3.37e+04   -3930.011\n",
      "KitchenQual           -6491.4807   1290.565     -5.030      0.000   -9024.169   -3958.792\n",
      "TotRmsAbvGrd           5291.6946   2191.779      2.414      0.016     990.407    9592.982\n",
      "Functional             5233.2072    874.843      5.982      0.000    3516.359    6950.056\n",
      "Fireplaces             2263.6180   1579.714      1.433      0.152    -836.514    5363.750\n",
      "FireplaceQu             313.9138    741.216      0.424      0.672   -1140.697    1768.524\n",
      "GarageYrBlt             507.6573   2780.962      0.183      0.855   -4949.882    5965.196\n",
      "GarageCars             4080.2528   2689.283      1.517      0.130   -1197.368    9357.874\n",
      "GarageArea             1950.1093   2352.754      0.829      0.407   -2667.086    6567.304\n",
      "GarageQual              -27.8657   1211.506     -0.023      0.982   -2405.404    2349.672\n",
      "GarageCond              319.1755   1409.954      0.226      0.821   -2447.809    3086.160\n",
      "PavedDrive              680.7646   1939.360      0.351      0.726   -3125.161    4486.690\n",
      "WoodDeckSF             1841.6933   1150.393      1.601      0.110    -415.912    4099.298\n",
      "OpenPorchSF            1761.7215    916.220      1.923      0.055     -36.327    3559.770\n",
      "EnclosedPorch             7.3784     14.779      0.499      0.618     -21.625      36.382\n",
      "3SsnPorch                49.9493     28.636      1.744      0.081      -6.248     106.147\n",
      "ScreenPorch              50.8954     13.935      3.652      0.000      23.548      78.243\n",
      "PoolArea                 36.7304     43.102      0.852      0.394     -47.856     121.317\n",
      "PoolQC                -2.209e+04   1.27e+04     -1.737      0.083    -4.7e+04    2869.955\n",
      "MiscVal                   2.7227      6.584      0.414      0.679     -10.197      15.643\n",
      "MoSold                -1294.9030   1188.200     -1.090      0.276   -3626.704    1036.898\n",
      "totalSqFeet            2.356e+05   4.05e+04      5.815      0.000    1.56e+05    3.15e+05\n",
      "totalBathroom          1310.4777   1457.838      0.899      0.369   -1550.477    4171.433\n",
      "houseAge               3.322e+04   7470.356      4.446      0.000    1.86e+04    4.79e+04\n",
      "reModeled              -160.0406   2090.509     -0.077      0.939   -4262.589    3942.508\n",
      "isNew                 -1.039e+04   5227.298     -1.988      0.047   -2.06e+04    -132.477\n",
      "MSSubClass_30         -6409.7211   5481.588     -1.169      0.243   -1.72e+04    4347.700\n",
      "MSSubClass_40         -6626.7492   1.83e+04     -0.363      0.717   -4.25e+04    2.92e+04\n",
      "MSSubClass_45         -1.589e+04   2.88e+04     -0.551      0.581   -7.24e+04    4.06e+04\n",
      "MSSubClass_50         -1709.1947   1.07e+04     -0.159      0.873   -2.28e+04    1.93e+04\n",
      "MSSubClass_60          7663.1325   9401.236      0.815      0.415   -1.08e+04    2.61e+04\n",
      "MSSubClass_70          5426.8923   9785.437      0.555      0.579   -1.38e+04    2.46e+04\n",
      "MSSubClass_75         -2.545e+04   1.72e+04     -1.484      0.138   -5.91e+04    8215.486\n",
      "MSSubClass_80         -1.056e+04   1.42e+04     -0.741      0.459   -3.85e+04    1.74e+04\n",
      "MSSubClass_85         -9263.5538   1.38e+04     -0.671      0.503   -3.64e+04    1.78e+04\n",
      "MSSubClass_90         -1232.4289   4435.135     -0.278      0.781   -9936.223    7471.365\n",
      "MSSubClass_120        -2.175e+04   1.55e+04     -1.404      0.161   -5.21e+04    8654.033\n",
      "MSSubClass_150         1.359e-09   3.22e-10      4.216      0.000    7.26e-10    1.99e-09\n",
      "MSSubClass_160        -1.789e+04   1.94e+04     -0.923      0.356   -5.59e+04    2.01e+04\n",
      "MSSubClass_180        -2.551e+04   2.27e+04     -1.124      0.261      -7e+04     1.9e+04\n",
      "MSSubClass_190        -1591.3670   2.69e+04     -0.059      0.953   -5.44e+04    5.12e+04\n",
      "MSZoning_FV            3.328e+04   1.34e+04      2.483      0.013    6981.929    5.96e+04\n",
      "MSZoning_RH             2.34e+04   1.32e+04      1.777      0.076   -2438.998    4.92e+04\n",
      "MSZoning_RL            2.303e+04   1.12e+04      2.064      0.039    1138.065    4.49e+04\n",
      "MSZoning_RM            2.393e+04   1.03e+04      2.317      0.021    3660.939    4.42e+04\n",
      "LandContour_HLS        1.441e+04   6139.498      2.347      0.019    2360.256    2.65e+04\n",
      "LandContour_Low       -3026.7637   7702.760     -0.393      0.694   -1.81e+04    1.21e+04\n",
      "LandContour_Lvl        1276.5322   4391.002      0.291      0.771   -7340.653    9893.718\n",
      "LotConfig_CulDSac      8010.7721   3793.179      2.112      0.035     566.795    1.55e+04\n",
      "LotConfig_FR2         -4990.7513   4674.605     -1.068      0.286   -1.42e+04    4182.993\n",
      "LotConfig_FR3         -1.463e+04   1.32e+04     -1.108      0.268   -4.05e+04    1.13e+04\n",
      "LotConfig_Inside        968.1012   2082.591      0.465      0.642   -3118.910    5055.112\n",
      "Neighborhood_Blueste   1.668e+04   2.11e+04      0.792      0.429   -2.47e+04     5.8e+04\n",
      "Neighborhood_BrDale    1.563e+04   1.33e+04      1.177      0.239   -1.04e+04    4.17e+04\n",
      "Neighborhood_BrkSide    457.4805   1.08e+04      0.042      0.966   -2.07e+04    2.16e+04\n",
      "Neighborhood_ClearCr  -1.047e+04   1.06e+04     -0.988      0.324   -3.13e+04    1.03e+04\n",
      "Neighborhood_CollgCr  -1.122e+04   8123.214     -1.381      0.168   -2.72e+04    4721.060\n",
      "Neighborhood_Crawfor   1.168e+04   9858.421      1.185      0.236   -7663.299     3.1e+04\n",
      "Neighborhood_Edwards  -9219.8933   9104.860     -1.013      0.311   -2.71e+04    8648.068\n",
      "Neighborhood_Gilbert  -1.318e+04   8564.008     -1.538      0.124      -3e+04    3631.031\n",
      "Neighborhood_IDOTRR   -5941.9268   1.23e+04     -0.483      0.629   -3.01e+04    1.82e+04\n",
      "Neighborhood_MeadowV    606.5456   1.42e+04      0.043      0.966   -2.73e+04    2.86e+04\n",
      "Neighborhood_Mitchel  -1.245e+04   9140.457     -1.362      0.173   -3.04e+04    5484.343\n",
      "Neighborhood_NAmes    -6635.0327   8890.568     -0.746      0.456   -2.41e+04    1.08e+04\n",
      "Neighborhood_NPkVill   1.749e+04   1.65e+04      1.063      0.288   -1.48e+04    4.98e+04\n",
      "Neighborhood_NWAmes   -1.513e+04   9007.422     -1.680      0.093   -3.28e+04    2548.295\n",
      "Neighborhood_NoRidge   1.837e+04   9524.267      1.929      0.054    -318.096    3.71e+04\n",
      "Neighborhood_NridgHt   2.023e+04   8387.092      2.412      0.016    3771.515    3.67e+04\n",
      "Neighborhood_OldTown  -1.005e+04   1.09e+04     -0.919      0.358   -3.15e+04    1.14e+04\n",
      "Neighborhood_SWISU    -7180.2279   1.14e+04     -0.630      0.529   -2.95e+04    1.52e+04\n",
      "Neighborhood_Sawyer     706.0593   9210.310      0.077      0.939   -1.74e+04    1.88e+04\n",
      "Neighborhood_SawyerW  -9397.3511   8764.549     -1.072      0.284   -2.66e+04    7802.762\n",
      "Neighborhood_Somerst  -8329.9520   1.03e+04     -0.812      0.417   -2.85e+04    1.18e+04\n",
      "Neighborhood_StoneBr   3.833e+04   9464.369      4.050      0.000    1.98e+04    5.69e+04\n",
      "Neighborhood_Timber   -1.329e+04   9180.183     -1.448      0.148   -3.13e+04    4725.962\n",
      "Neighborhood_Veenker   7884.6000   1.17e+04      0.674      0.501   -1.51e+04    3.08e+04\n",
      "Condition1_Feedr       2640.2374   5632.934      0.469      0.639   -8414.194    1.37e+04\n",
      "Condition1_Norm        1.112e+04   4662.606      2.385      0.017    1968.707    2.03e+04\n",
      "Condition1_PosA        3653.4830   1.12e+04      0.327      0.744   -1.83e+04    2.56e+04\n",
      "Condition1_PosN       -6101.5893   8709.467     -0.701      0.484   -2.32e+04     1.1e+04\n",
      "Condition1_RRAe       -1.073e+04   1.05e+04     -1.027      0.305   -3.12e+04    9779.085\n",
      "Condition1_RRAn         1.48e+04   7675.234      1.929      0.054    -258.104    2.99e+04\n",
      "Condition1_RRNe        1.127e+04   2.46e+04      0.458      0.647    -3.7e+04    5.96e+04\n",
      "Condition1_RRNn        4748.6271   1.37e+04      0.346      0.729   -2.22e+04    3.16e+04\n",
      "Condition2_Feedr      -7132.3731   4.07e+04     -0.175      0.861    -8.7e+04    7.27e+04\n",
      "Condition2_Norm       -5430.9161   3.81e+04     -0.142      0.887   -8.02e+04    6.94e+04\n",
      "Condition2_PosA        4.498e+04   4.83e+04      0.932      0.352   -4.98e+04     1.4e+05\n",
      "Condition2_PosN       -4.423e+04   4.61e+04     -0.960      0.337   -1.35e+05    4.61e+04\n",
      "Condition2_RRAe       -9.141e+04   8.15e+04     -1.122      0.262   -2.51e+05    6.85e+04\n",
      "Condition2_RRAn         210.7866   4.51e+04      0.005      0.996   -8.83e+04    8.87e+04\n",
      "Condition2_RRNn       -9123.0286    4.2e+04     -0.217      0.828   -9.16e+04    7.33e+04\n",
      "BldgType_2fmCon       -9430.5561   2.58e+04     -0.366      0.715   -6.01e+04    4.12e+04\n",
      "BldgType_Duplex       -1232.4289   4435.135     -0.278      0.781   -9936.223    7471.365\n",
      "BldgType_Twnhs        -9758.7685   1.68e+04     -0.580      0.562   -4.28e+04    2.32e+04\n",
      "BldgType_TwnhsE       -2380.2502   1.59e+04     -0.150      0.881   -3.35e+04    2.88e+04\n",
      "HouseStyle_1.5Unf      2.223e+04   2.92e+04      0.760      0.447   -3.52e+04    7.96e+04\n",
      "HouseStyle_1Story      8466.8391   1.07e+04      0.789      0.430   -1.26e+04    2.95e+04\n",
      "HouseStyle_2.5Fin      4230.7909    1.9e+04      0.223      0.824   -3.31e+04    4.15e+04\n",
      "HouseStyle_2.5Unf     -5949.9100   1.83e+04     -0.325      0.745   -4.19e+04       3e+04\n",
      "HouseStyle_2Story     -8510.4944   1.03e+04     -0.824      0.410   -2.88e+04    1.18e+04\n",
      "HouseStyle_SFoyer      1.059e+04   1.54e+04      0.690      0.491   -1.95e+04    4.07e+04\n",
      "HouseStyle_SLvl        1.866e+04   1.56e+04      1.194      0.233    -1.2e+04    4.94e+04\n",
      "RoofStyle_Gable        9090.6464   2.83e+04      0.321      0.748   -4.65e+04    6.47e+04\n",
      "RoofStyle_Gambrel      6820.6780      3e+04      0.228      0.820    -5.2e+04    6.57e+04\n",
      "RoofStyle_Hip           1.02e+04   2.84e+04      0.359      0.719   -4.55e+04    6.59e+04\n",
      "RoofStyle_Mansard       2.26e+04   3.07e+04      0.736      0.462   -3.77e+04    8.29e+04\n",
      "RoofStyle_Shed         7.755e+04   4.63e+04      1.674      0.094   -1.34e+04    1.68e+05\n",
      "RoofMatl_CompShg        7.01e+05   3.74e+04     18.750      0.000    6.28e+05    7.74e+05\n",
      "RoofMatl_Membran       7.648e+05   5.41e+04     14.145      0.000    6.59e+05    8.71e+05\n",
      "RoofMatl_Metal        -1.323e-09   5.78e-10     -2.289      0.022   -2.46e-09   -1.89e-10\n",
      "RoofMatl_Roll          6.758e+05   4.56e+04     14.808      0.000    5.86e+05    7.65e+05\n",
      "RoofMatl_Tar&Grv       7.188e+05   4.51e+04     15.945      0.000     6.3e+05    8.07e+05\n",
      "RoofMatl_WdShake       6.635e+05   4.26e+04     15.560      0.000     5.8e+05    7.47e+05\n",
      "RoofMatl_WdShngl       7.937e+05   3.89e+04     20.395      0.000    7.17e+05     8.7e+05\n",
      "Exterior1st_AsphShn   -1.055e+04   3.53e+04     -0.299      0.765   -7.99e+04    5.88e+04\n",
      "Exterior1st_BrkComm   -1.859e+04   3.38e+04     -0.549      0.583    -8.5e+04    4.78e+04\n",
      "Exterior1st_BrkFace    1.229e+04   1.55e+04      0.793      0.428   -1.81e+04    4.27e+04\n",
      "Exterior1st_CBlock    -1.112e+04   1.34e+04     -0.830      0.407   -3.74e+04    1.52e+04\n",
      "Exterior1st_CemntBd   -6317.8985   2.14e+04     -0.295      0.768   -4.83e+04    3.57e+04\n",
      "Exterior1st_HdBoard   -1436.0069   1.55e+04     -0.092      0.926   -3.19e+04     2.9e+04\n",
      "Exterior1st_ImStucc   -4.606e+04   3.03e+04     -1.519      0.129   -1.06e+05    1.35e+04\n",
      "Exterior1st_MetalSd    8317.0991   1.74e+04      0.479      0.632   -2.57e+04    4.24e+04\n",
      "Exterior1st_Plywood   -1.258e+04   1.53e+04     -0.821      0.412   -4.26e+04    1.75e+04\n",
      "Exterior1st_Stone      1745.5199   2.69e+04      0.065      0.948    -5.1e+04    5.45e+04\n",
      "Exterior1st_Stucco     5729.1532   1.76e+04      0.325      0.745   -2.88e+04    4.03e+04\n",
      "Exterior1st_VinylSd   -2929.9203   1.61e+04     -0.182      0.856   -3.46e+04    2.87e+04\n",
      "Exterior1st_Wd Sdng   -2483.2918    1.5e+04     -0.166      0.868   -3.19e+04    2.69e+04\n",
      "Exterior1st_WdShing    7753.4272   1.62e+04      0.479      0.632    -2.4e+04    3.95e+04\n",
      "Exterior2nd_AsphShn   -1.579e+04   2.44e+04     -0.646      0.518   -6.38e+04    3.22e+04\n",
      "Exterior2nd_Brk Cmn    5534.9445   2.69e+04      0.206      0.837   -4.73e+04    5.84e+04\n",
      "Exterior2nd_BrkFace    -1.84e+04   1.53e+04     -1.199      0.231   -4.85e+04    1.17e+04\n",
      "Exterior2nd_CBlock    -1.112e+04   1.34e+04     -0.830      0.407   -3.74e+04    1.52e+04\n",
      "Exterior2nd_CmentBd   -3941.6137   2.06e+04     -0.191      0.848   -4.44e+04    3.65e+04\n",
      "Exterior2nd_HdBoard   -1.319e+04   1.44e+04     -0.916      0.360   -4.14e+04    1.51e+04\n",
      "Exterior2nd_ImStucc     1.65e+04   1.66e+04      0.993      0.321   -1.61e+04    4.91e+04\n",
      "Exterior2nd_MetalSd   -1.678e+04   1.64e+04     -1.026      0.305   -4.89e+04    1.53e+04\n",
      "Exterior2nd_Other     -4.282e+04    2.9e+04     -1.474      0.141   -9.98e+04    1.42e+04\n",
      "Exterior2nd_Plywood   -1.028e+04   1.39e+04     -0.740      0.460   -3.75e+04     1.7e+04\n",
      "Exterior2nd_Stone     -1.756e+04   2.01e+04     -0.874      0.382    -5.7e+04    2.19e+04\n",
      "Exterior2nd_Stucco    -1.996e+04   1.66e+04     -1.202      0.230   -5.26e+04    1.26e+04\n",
      "Exterior2nd_VinylSd   -9210.4672    1.5e+04     -0.614      0.539   -3.86e+04    2.02e+04\n",
      "Exterior2nd_Wd Sdng   -8979.6794   1.39e+04     -0.648      0.517   -3.62e+04    1.82e+04\n",
      "Exterior2nd_Wd Shng   -2.076e+04   1.45e+04     -1.432      0.152   -4.92e+04    7683.918\n",
      "MasVnrType_BrkFace     1.012e+04   7217.320      1.402      0.161   -4042.617    2.43e+04\n",
      "MasVnrType_None        1.845e+04   7325.073      2.519      0.012    4079.220    3.28e+04\n",
      "MasVnrType_Stone       2.357e+04   7742.808      3.044      0.002    8371.088    3.88e+04\n",
      "Foundation_CBlock      2426.8125   3713.353      0.654      0.514   -4860.509    9714.134\n",
      "Foundation_PConc       2387.5254   3961.849      0.603      0.547   -5387.461    1.02e+04\n",
      "Foundation_Slab        1.663e+04   1.01e+04      1.643      0.101   -3231.726    3.65e+04\n",
      "Foundation_Stone       4153.4988   1.18e+04      0.352      0.725    -1.9e+04    2.73e+04\n",
      "Foundation_Wood       -2.657e+04   1.56e+04     -1.698      0.090   -5.73e+04    4131.952\n",
      "Heating_GasA          -3.614e+05   6.85e+04     -5.278      0.000   -4.96e+05   -2.27e+05\n",
      "Heating_GasW          -3.719e+05   6.91e+04     -5.381      0.000   -5.07e+05   -2.36e+05\n",
      "Heating_Grav          -3.726e+05      7e+04     -5.326      0.000    -5.1e+05   -2.35e+05\n",
      "Heating_OthW          -4.069e+05   7.17e+04     -5.678      0.000   -5.48e+05   -2.66e+05\n",
      "Heating_Wall          -3.544e+05      7e+04     -5.064      0.000   -4.92e+05   -2.17e+05\n",
      "CentralAir_Y          -2826.9364   4620.944     -0.612      0.541   -1.19e+04    6241.502\n",
      "Electrical_FuseF      -3580.1049   7196.637     -0.497      0.619   -1.77e+04    1.05e+04\n",
      "Electrical_FuseP      -1.581e+04   1.78e+04     -0.890      0.374   -5.07e+04    1.91e+04\n",
      "Electrical_Mix         1.779e+04   2.61e+04      0.682      0.495   -3.34e+04     6.9e+04\n",
      "Electrical_SBrkr       1094.2282   3484.855      0.314      0.754   -5744.675    7933.132\n",
      "GarageType_Attchd      1.488e+04    1.4e+04      1.061      0.289   -1.27e+04    4.24e+04\n",
      "GarageType_Basment     1.933e+04    1.6e+04      1.207      0.228   -1.21e+04    5.08e+04\n",
      "GarageType_BuiltIn     2.019e+04   1.45e+04      1.393      0.164   -8253.042    4.86e+04\n",
      "GarageType_CarPort     4630.9211   1.71e+04      0.270      0.787    -2.9e+04    3.83e+04\n",
      "GarageType_Detchd      1.905e+04    1.4e+04      1.360      0.174   -8443.924    4.65e+04\n",
      "GarageType_None        1.317e+04   7634.807      1.725      0.085   -1809.862    2.82e+04\n",
      "GarageFinish_None      1.317e+04   7634.807      1.725      0.085   -1809.862    2.82e+04\n",
      "GarageFinish_RFn      -2695.2735   2291.043     -1.176      0.240   -7191.363    1800.816\n",
      "GarageFinish_Unf       1749.1397   2782.876      0.629      0.530   -3712.154    7210.433\n",
      "Fence_GdWo             1.082e+04   5519.788      1.959      0.050     -17.380    2.16e+04\n",
      "Fence_MnPrv            1.012e+04   4348.115      2.328      0.020    1590.460    1.87e+04\n",
      "Fence_MnWw             2352.0929   8962.235      0.262      0.793   -1.52e+04    1.99e+04\n",
      "Fence_None             7515.9320   3956.632      1.900      0.058    -248.816    1.53e+04\n",
      "MiscFeature_None       3.782e+04   1.05e+05      0.361      0.718   -1.68e+05    2.43e+05\n",
      "MiscFeature_Othr       3.404e+04   9.52e+04      0.358      0.721   -1.53e+05    2.21e+05\n",
      "MiscFeature_Shed       3.361e+04      1e+05      0.336      0.737   -1.63e+05     2.3e+05\n",
      "MiscFeature_TenC      -7.294e+04   9.72e+04     -0.751      0.453   -2.64e+05    1.18e+05\n",
      "YrSold_2007            -157.0671   2341.569     -0.067      0.947   -4752.312    4438.178\n",
      "YrSold_2008            -346.3426   2369.470     -0.146      0.884   -4996.342    4303.657\n",
      "YrSold_2009           -3625.4414   2306.520     -1.572      0.116   -8151.905     901.023\n",
      "YrSold_2010             -66.1660   2871.666     -0.023      0.982   -5701.708    5569.376\n",
      "SaleType_CWD           2.004e+04   1.34e+04      1.494      0.136   -6290.137    4.64e+04\n",
      "SaleType_Con           2.703e+04   1.83e+04      1.480      0.139   -8814.377    6.29e+04\n",
      "SaleType_ConLD         1.897e+04   1.24e+04      1.525      0.128   -5441.693    4.34e+04\n",
      "SaleType_ConLI         -284.6400   1.22e+04     -0.023      0.981   -2.42e+04    2.37e+04\n",
      "SaleType_ConLw         -299.9109   1.54e+04     -0.019      0.984   -3.05e+04    2.99e+04\n",
      "SaleType_New           1.915e+04   2.79e+04      0.685      0.493   -3.57e+04     7.4e+04\n",
      "SaleType_Oth           1.095e+04   1.52e+04      0.718      0.473    -1.9e+04    4.09e+04\n",
      "SaleType_WD           -1289.8716   4631.758     -0.278      0.781   -1.04e+04    7799.787\n",
      "SaleCondition_AdjLand  2.216e+04   2.08e+04      1.065      0.287   -1.87e+04     6.3e+04\n",
      "SaleCondition_Alloca  -4019.9553   1.12e+04     -0.358      0.721   -2.61e+04     1.8e+04\n",
      "SaleCondition_Family  -6717.5665   7690.353     -0.874      0.383   -2.18e+04    8374.476\n",
      "SaleCondition_Normal   8572.7189   3269.068      2.622      0.009    2157.289     1.5e+04\n",
      "SaleCondition_Partial  8043.4279   2.76e+04      0.291      0.771   -4.61e+04    6.22e+04\n",
      "==============================================================================\n",
      "Omnibus:                      232.121   Durbin-Watson:                   2.006\n",
      "Prob(Omnibus):                  0.000   Jarque-Bera (JB):             2851.194\n",
      "Skew:                           0.535   Prob(JB):                         0.00\n",
      "Kurtosis:                      10.579   Cond. No.                     2.35e+18\n",
      "==============================================================================\n",
      "\n",
      "Notes:\n",
      "[1] Standard Errors assume that the covariance matrix of the errors is correctly specified.\n",
      "[2] The smallest eigenvalue is 6.51e-29. This might indicate that there are\n",
      "strong multicollinearity problems or that the design matrix is singular.\n"
     ]
    }
   ],
   "source": [
    "model2 = sm.OLS(y_train, X_train).fit()\n",
    "print(model2.summary())"
   ]
  },
  {
   "cell_type": "code",
   "execution_count": 27,
   "id": "f3612b66",
   "metadata": {},
   "outputs": [
    {
     "name": "stdout",
     "output_type": "stream",
     "text": [
      "Mean Squared Error: 3373710259.768\n",
      "Square Root of Mean Squared Error: 58083.649\n"
     ]
    }
   ],
   "source": [
    "print('Mean Squared Error: {:.3f}'.format(mean_squared_error(y_test, model2.predict(X_test))))\n",
    "print('Square Root of Mean Squared Error: {:.3f}'.format(math.sqrt(mean_squared_error(y_test, model2.predict(X_test)))))"
   ]
  },
  {
   "cell_type": "markdown",
   "id": "e8a61896",
   "metadata": {},
   "source": [
    "# k-Nearest Neighbors with 10-fold cross validation to choose k"
   ]
  },
  {
   "cell_type": "code",
   "execution_count": 28,
   "id": "6ea5f3d6",
   "metadata": {},
   "outputs": [
    {
     "name": "stdout",
     "output_type": "stream",
     "text": [
      "Best k: 23.000\n",
      "R-squared test score: 0.694\n",
      "Mean Squared Error: 1618178488.640\n",
      "Square Root of Mean Squared Error: 40226.589\n"
     ]
    }
   ],
   "source": [
    "# k-Nearest Neighbors with 10-fold cross validation to choose k\n",
    "#create new a knn model\n",
    "knn = KNeighborsRegressor()\n",
    "# create a dictionary of all values we want to test for n_neighbors\n",
    "param_grid = {'n_neighbors': np.arange(1, 25)}\n",
    "#use gridsearch to test all values for n_neighbors\n",
    "knn_gscv = GridSearchCV(knn, param_grid, cv=10)\n",
    "#fit model to data\n",
    "knn_gscv.fit(X_train, y_train)\n",
    "\n",
    "#check top performing n_neighbors value\n",
    "best_k = knn_gscv.best_params_['n_neighbors']\n",
    "print('Best k: {:.3f}'.format(best_k))\n",
    "\n",
    "# report the testing accuracy\n",
    "knn2 = KNeighborsRegressor(n_neighbors=best_k)\n",
    "knn2.fit(X_train, y_train)\n",
    "print('R-squared test score: {:.3f}'.format(knn2.score(X_test, y_test)))\n",
    "print('Mean Squared Error: {:.3f}'.format(mean_squared_error(y_test, knn2.predict(X_test))))\n",
    "print('Square Root of Mean Squared Error: {:.3f}'.format(math.sqrt(mean_squared_error(y_test, knn2.predict(X_test)))))"
   ]
  },
  {
   "cell_type": "markdown",
   "id": "e7f3da51",
   "metadata": {},
   "source": [
    "# Ridge regression with 10-fold cross validation to chose alpha"
   ]
  },
  {
   "cell_type": "code",
   "execution_count": 29,
   "id": "8012ea5e",
   "metadata": {},
   "outputs": [
    {
     "name": "stdout",
     "output_type": "stream",
     "text": [
      "Best alpha_: 21.644\n",
      "R-squared test score: 0.816\n",
      "Mean Squared Error: 970398890.946\n",
      "Square Root of Mean Squared Error: 31151.226\n"
     ]
    }
   ],
   "source": [
    "# Ridge regression with 10-fold cross validation to chose ¸\n",
    "# The Ridge() function has an alpha argument ( λ , but with a different name!) that is used to tune the model\n",
    "# Alpha values ranging from very big to very small, essentially covering the full \n",
    "# range of scenarios from the null model containing only the intercept, to the least squares fit\n",
    "alphas = 10**np.linspace(10,-2,100)*0.5\n",
    "\n",
    "\n",
    "ridgecv = RidgeCV(alphas = alphas, scoring = 'neg_mean_squared_error')\n",
    "ridgecv.fit(X_train, y_train)\n",
    "ridgecv.alpha_\n",
    "print('Best alpha_: {:.3f}'.format(ridgecv.alpha_))\n",
    "\n",
    "ridge = Ridge(alpha = ridgecv.alpha_)\n",
    "ridge.fit(X_train, y_train)\n",
    "print('R-squared test score: {:.3f}'.format(ridge.score(X_test, y_test)))\n",
    "print('Mean Squared Error: {:.3f}'.format(mean_squared_error(y_test, ridge.predict(X_test))))\n",
    "print('Square Root of Mean Squared Error: {:.3f}'.format(math.sqrt(mean_squared_error(y_test, ridge.predict(X_test)))))"
   ]
  },
  {
   "cell_type": "markdown",
   "id": "5c7f476c",
   "metadata": {},
   "source": [
    "# LASSO with 10-fold cross validation to chose alpha"
   ]
  },
  {
   "cell_type": "code",
   "execution_count": 30,
   "id": "3065c55b",
   "metadata": {},
   "outputs": [
    {
     "name": "stdout",
     "output_type": "stream",
     "text": [
      "Best alpha_: 886.186\n",
      "R-squared test score: 0.798\n",
      "Mean Squared Error: 1066135660.059\n",
      "Square Root of Mean Squared Error: 32651.733\n"
     ]
    }
   ],
   "source": [
    "# LASSO with 10-fold cross validation to chose\n",
    "lassocv = LassoCV(alphas = None, cv = 10, max_iter = 100000)\n",
    "lassocv.fit(X_train, y_train)\n",
    "\n",
    "lasso = Lasso(max_iter = 10000)\n",
    "lasso.set_params(alpha=lassocv.alpha_)\n",
    "print('Best alpha_: {:.3f}'.format(lassocv.alpha_))\n",
    "lasso.fit(X_train, y_train)\n",
    "print('R-squared test score: {:.3f}'.format(lasso.score(X_test, y_test)))\n",
    "print('Mean Squared Error: {:.3f}'.format(mean_squared_error(y_test, lasso.predict(X_test))))\n",
    "print('Square Root of Mean Squared Error: {:.3f}'.format(math.sqrt(mean_squared_error(y_test, lasso.predict(X_test)))))"
   ]
  },
  {
   "cell_type": "markdown",
   "id": "bbe062f6",
   "metadata": {},
   "source": [
    "# Backward stepwise regression with 10-fold cross validation to choose k"
   ]
  },
  {
   "cell_type": "code",
   "execution_count": 31,
   "id": "e1822557",
   "metadata": {},
   "outputs": [],
   "source": [
    "# Backward stepwise (linear) regression with 10-fold cross validation to choose k (number\n",
    "# of features)\n",
    "\n",
    "# Build Backward stepwise feature selection\n",
    "sfs1 = SFS(LinearRegression(),k_features = 'best', forward=False, floating=False, scoring='r2',cv=10, n_jobs=-1)\n",
    "\n",
    "# Perform SFFS\n",
    "sfs1 = sfs1.fit(X_train, y_train)"
   ]
  },
  {
   "cell_type": "code",
   "execution_count": 32,
   "id": "5e003187",
   "metadata": {},
   "outputs": [
    {
     "data": {
      "image/png": "[encoded data removed]",
      "text/plain": [
       "<Figure size 1440x360 with 1 Axes>"
      ]
     },
     "metadata": {
      "needs_background": "light"
     },
     "output_type": "display_data"
    }
   ],
   "source": [
    "fig1 = plot_sfs(sfs1.get_metric_dict(), kind='std_dev', figsize=(20, 5))\n",
    "\n",
    "plt.ylim([0, 1])\n",
    "plt.xlim([70, 1])\n",
    "plt.title('Backward Stepwise (linear) regression')\n",
    "plt.grid()\n",
    "plt.show()"
   ]
  },
  {
   "cell_type": "code",
   "execution_count": 33,
   "id": "442490c0",
   "metadata": {},
   "outputs": [
    {
     "data": {
      "text/plain": [
       "73"
      ]
     },
     "execution_count": 33,
     "metadata": {},
     "output_type": "execute_result"
    }
   ],
   "source": [
    "# number of features\n",
    "len(sfs1.k_feature_names_)"
   ]
  },
  {
   "cell_type": "code",
   "execution_count": 34,
   "id": "31d7d9cd",
   "metadata": {},
   "outputs": [
    {
     "data": {
      "text/plain": [
       "('Street',\n",
       " 'LandSlope',\n",
       " 'OverallQual',\n",
       " 'OverallCond',\n",
       " 'ExterQual',\n",
       " 'ExterCond',\n",
       " 'BsmtQual',\n",
       " 'BsmtExposure',\n",
       " 'GrLivArea',\n",
       " 'BsmtFullBath',\n",
       " 'BsmtHalfBath',\n",
       " 'KitchenQual',\n",
       " 'Functional',\n",
       " 'Fireplaces',\n",
       " 'GarageCars',\n",
       " 'ScreenPorch',\n",
       " 'houseAge',\n",
       " 'MSSubClass_50',\n",
       " 'MSSubClass_70',\n",
       " 'MSSubClass_120',\n",
       " 'MSSubClass_160',\n",
       " 'MSSubClass_180',\n",
       " 'MSZoning_FV',\n",
       " 'MSZoning_RH',\n",
       " 'MSZoning_RL',\n",
       " 'MSZoning_RM',\n",
       " 'LandContour_HLS',\n",
       " 'LandContour_Low',\n",
       " 'LandContour_Lvl',\n",
       " 'LotConfig_CulDSac',\n",
       " 'LotConfig_FR3',\n",
       " 'Neighborhood_BrDale',\n",
       " 'Neighborhood_Crawfor',\n",
       " 'Neighborhood_Gilbert',\n",
       " 'Neighborhood_MeadowV',\n",
       " 'Neighborhood_NPkVill',\n",
       " 'Neighborhood_NWAmes',\n",
       " 'Neighborhood_NoRidge',\n",
       " 'Neighborhood_NridgHt',\n",
       " 'Neighborhood_Sawyer',\n",
       " 'Neighborhood_StoneBr',\n",
       " 'Condition1_Norm',\n",
       " 'Condition1_PosA',\n",
       " 'Condition1_RRAn',\n",
       " 'Condition1_RRNe',\n",
       " 'Condition1_RRNn',\n",
       " 'Condition2_RRAn',\n",
       " 'BldgType_Duplex',\n",
       " 'BldgType_TwnhsE',\n",
       " 'HouseStyle_1Story',\n",
       " 'RoofStyle_Mansard',\n",
       " 'RoofStyle_Shed',\n",
       " 'RoofMatl_WdShake',\n",
       " 'RoofMatl_WdShngl',\n",
       " 'Exterior1st_BrkFace',\n",
       " 'Exterior1st_MetalSd',\n",
       " 'Exterior2nd_AsphShn',\n",
       " 'Exterior2nd_Stucco',\n",
       " 'Exterior2nd_Wd Shng',\n",
       " 'Heating_Wall',\n",
       " 'GarageType_Attchd',\n",
       " 'GarageType_BuiltIn',\n",
       " 'GarageType_Detchd',\n",
       " 'GarageType_None',\n",
       " 'GarageFinish_None',\n",
       " 'GarageFinish_RFn',\n",
       " 'Fence_GdWo',\n",
       " 'MiscFeature_None',\n",
       " 'MiscFeature_Shed',\n",
       " 'YrSold_2009',\n",
       " 'SaleType_ConLw',\n",
       " 'SaleType_WD',\n",
       " 'SaleCondition_Normal')"
      ]
     },
     "execution_count": 34,
     "metadata": {},
     "output_type": "execute_result"
    }
   ],
   "source": [
    "sfs1.k_feature_names_"
   ]
  },
  {
   "cell_type": "code",
   "execution_count": 35,
   "id": "9c047ad4",
   "metadata": {},
   "outputs": [
    {
     "data": {
      "text/plain": [
       "0.8649371328627327"
      ]
     },
     "execution_count": 35,
     "metadata": {},
     "output_type": "execute_result"
    }
   ],
   "source": [
    "# get best r-squared score \n",
    "sfs1.k_score_"
   ]
  },
  {
   "cell_type": "code",
   "execution_count": 36,
   "id": "3f81b859",
   "metadata": {},
   "outputs": [
    {
     "name": "stdout",
     "output_type": "stream",
     "text": [
      "                                 OLS Regression Results                                \n",
      "=======================================================================================\n",
      "Dep. Variable:              SalePrice   R-squared (uncentered):                   0.980\n",
      "Model:                            OLS   Adj. R-squared (uncentered):              0.979\n",
      "Method:                 Least Squares   F-statistic:                              745.1\n",
      "Date:                Wed, 06 Oct 2021   Prob (F-statistic):                        0.00\n",
      "Time:                        18:05:35   Log-Likelihood:                         -13619.\n",
      "No. Observations:                1168   AIC:                                  2.738e+04\n",
      "Df Residuals:                    1096   BIC:                                  2.775e+04\n",
      "Df Model:                          72                                                  \n",
      "Covariance Type:            nonrobust                                                  \n",
      "========================================================================================\n",
      "                           coef    std err          t      P>|t|      [0.025      0.975]\n",
      "----------------------------------------------------------------------------------------\n",
      "Street                2418.1179   1.33e+04      0.181      0.856   -2.37e+04    2.86e+04\n",
      "LandSlope             1.165e+04   4320.552      2.697      0.007    3173.031    2.01e+04\n",
      "OverallQual           1.858e+04   2438.651      7.619      0.000    1.38e+04    2.34e+04\n",
      "OverallCond           5916.0076    922.268      6.415      0.000    4106.397    7725.618\n",
      "ExterQual            -1.007e+04   1885.451     -5.340      0.000   -1.38e+04   -6369.041\n",
      "ExterCond             1494.2526   1243.455      1.202      0.230    -945.570    3934.075\n",
      "BsmtQual             -6958.5904   2073.105     -3.357      0.001    -1.1e+04   -2890.888\n",
      "BsmtExposure         -3789.3363    860.658     -4.403      0.000   -5478.060   -2100.613\n",
      "GrLivArea             3.575e+04   1785.279     20.028      0.000    3.23e+04    3.93e+04\n",
      "BsmtFullBath          1.341e+04   1901.595      7.051      0.000    9677.628    1.71e+04\n",
      "BsmtHalfBath          8052.6392   3937.390      2.045      0.041     326.965    1.58e+04\n",
      "KitchenQual          -8538.5189   1421.719     -6.006      0.000   -1.13e+04   -5748.919\n",
      "Functional            4440.4720    927.419      4.788      0.000    2620.754    6260.190\n",
      "Fireplaces            6658.8208   1704.089      3.908      0.000    3315.175       1e+04\n",
      "GarageCars            1.165e+04   2032.269      5.733      0.000    7664.224    1.56e+04\n",
      "ScreenPorch             41.6548     15.308      2.721      0.007      11.618      71.691\n",
      "houseAge             -1.427e+04   2999.686     -4.757      0.000   -2.02e+04   -8382.458\n",
      "MSSubClass_50         1.054e+04   3669.422      2.872      0.004    3337.617    1.77e+04\n",
      "MSSubClass_70         6672.0358   5318.264      1.255      0.210   -3763.093    1.71e+04\n",
      "MSSubClass_120       -4.174e+04   7285.854     -5.729      0.000    -5.6e+04   -2.74e+04\n",
      "MSSubClass_160       -4.093e+04   7500.507     -5.457      0.000   -5.56e+04   -2.62e+04\n",
      "MSSubClass_180       -3.114e+04   1.48e+04     -2.110      0.035   -6.01e+04   -2182.750\n",
      "MSZoning_FV           6.823e+04   1.02e+04      6.689      0.000    4.82e+04    8.82e+04\n",
      "MSZoning_RH           4.914e+04   1.16e+04      4.228      0.000    2.63e+04     7.2e+04\n",
      "MSZoning_RL           4.859e+04   8869.690      5.478      0.000    3.12e+04     6.6e+04\n",
      "MSZoning_RM           4.509e+04   8972.279      5.025      0.000    2.75e+04    6.27e+04\n",
      "LandContour_HLS       3.411e+04   6516.350      5.234      0.000    2.13e+04    4.69e+04\n",
      "LandContour_Low       2.254e+04   7992.387      2.821      0.005    6862.727    3.82e+04\n",
      "LandContour_Lvl       2.224e+04   4478.601      4.966      0.000    1.35e+04     3.1e+04\n",
      "LotConfig_CulDSac     1.134e+04   3506.649      3.233      0.001    4455.935    1.82e+04\n",
      "LotConfig_FR3        -2.889e+04   1.53e+04     -1.887      0.059   -5.89e+04    1152.399\n",
      "Neighborhood_BrDale   3.638e+04   1.05e+04      3.463      0.001    1.58e+04     5.7e+04\n",
      "Neighborhood_Crawfor   2.17e+04   5394.684      4.022      0.000    1.11e+04    3.23e+04\n",
      "Neighborhood_Gilbert -7120.7170   4393.736     -1.621      0.105   -1.57e+04    1500.367\n",
      "Neighborhood_MeadowV  1.698e+04   1.09e+04      1.563      0.118   -4342.258    3.83e+04\n",
      "Neighborhood_NPkVill  2.773e+04   1.38e+04      2.012      0.044     686.471    5.48e+04\n",
      "Neighborhood_NWAmes  -5617.5710   4392.116     -1.279      0.201   -1.42e+04    3000.334\n",
      "Neighborhood_NoRidge  4.819e+04   5904.663      8.161      0.000    3.66e+04    5.98e+04\n",
      "Neighborhood_NridgHt  4.915e+04   4766.920     10.310      0.000    3.98e+04    5.85e+04\n",
      "Neighborhood_Sawyer   9169.3946   4256.966      2.154      0.031     816.671    1.75e+04\n",
      "Neighborhood_StoneBr  6.174e+04   7083.199      8.717      0.000    4.78e+04    7.56e+04\n",
      "Condition1_Norm       1.491e+04   2930.283      5.089      0.000    9163.934    2.07e+04\n",
      "Condition1_PosA       1.282e+04   1.19e+04      1.077      0.282   -1.05e+04    3.62e+04\n",
      "Condition1_RRAn       2.217e+04   6836.636      3.243      0.001    8754.260    3.56e+04\n",
      "Condition1_RRNe       2.015e+04   2.93e+04      0.688      0.491   -3.73e+04    7.76e+04\n",
      "Condition1_RRNn       2.188e+04   1.42e+04      1.541      0.124   -5976.951    4.97e+04\n",
      "Condition2_RRAn       1.029e+04   2.99e+04      0.344      0.731   -4.85e+04     6.9e+04\n",
      "BldgType_Duplex      -1.871e+04   5790.376     -3.232      0.001   -3.01e+04   -7350.534\n",
      "BldgType_TwnhsE       1.007e+04   6712.251      1.500      0.134   -3098.722    2.32e+04\n",
      "HouseStyle_1Story     1.659e+04   2502.249      6.629      0.000    1.17e+04    2.15e+04\n",
      "RoofStyle_Mansard     2.067e+04   1.28e+04      1.611      0.108   -4511.828    4.59e+04\n",
      "RoofStyle_Shed        4.562e+04   2.37e+04      1.925      0.054    -873.271    9.21e+04\n",
      "RoofMatl_WdShake     -4.097e+04   1.77e+04     -2.316      0.021   -7.57e+04   -6263.586\n",
      "RoofMatl_WdShngl       9.83e+04   1.52e+04      6.489      0.000    6.86e+04    1.28e+05\n",
      "Exterior1st_BrkFace   1.758e+04   5032.246      3.493      0.000    7705.577    2.75e+04\n",
      "Exterior1st_MetalSd   5365.2483   2603.198      2.061      0.040     257.433    1.05e+04\n",
      "Exterior2nd_AsphShn   -1.71e+04   1.77e+04     -0.968      0.333   -5.18e+04    1.76e+04\n",
      "Exterior2nd_Stucco    -2.25e+04   6917.265     -3.253      0.001   -3.61e+04   -8932.086\n",
      "Exterior2nd_Wd Shng  -1.131e+04   5254.042     -2.153      0.032   -2.16e+04   -1000.905\n",
      "Heating_Wall          2.135e+04   1.77e+04      1.209      0.227   -1.33e+04     5.6e+04\n",
      "GarageType_Attchd     1.543e+04   5994.535      2.575      0.010    3671.023    2.72e+04\n",
      "GarageType_BuiltIn     2.04e+04   7088.726      2.877      0.004    6488.087    3.43e+04\n",
      "GarageType_Detchd     1.526e+04   6043.231      2.525      0.012    3402.108    2.71e+04\n",
      "GarageType_None       1.216e+04   3746.988      3.245      0.001    4805.265    1.95e+04\n",
      "GarageFinish_None     1.216e+04   3746.988      3.245      0.001    4805.265    1.95e+04\n",
      "GarageFinish_RFn     -3161.2018   2113.566     -1.496      0.135   -7308.295     985.892\n",
      "Fence_GdWo            5050.8586   4835.279      1.045      0.296   -4436.591    1.45e+04\n",
      "MiscFeature_None      5.529e+04   9525.401      5.805      0.000    3.66e+04     7.4e+04\n",
      "MiscFeature_Shed      5.184e+04   1.05e+04      4.931      0.000    3.12e+04    7.25e+04\n",
      "YrSold_2009          -2599.9483   2055.290     -1.265      0.206   -6632.696    1432.799\n",
      "SaleType_ConLw        -1.59e+04   1.75e+04     -0.908      0.364   -5.02e+04    1.84e+04\n",
      "SaleType_WD          -9132.0618   3473.520     -2.629      0.009   -1.59e+04   -2316.562\n",
      "SaleCondition_Normal  4230.3291   3026.614      1.398      0.162   -1708.283    1.02e+04\n",
      "==============================================================================\n",
      "Omnibus:                      348.377   Durbin-Watson:                   2.070\n",
      "Prob(Omnibus):                  0.000   Jarque-Bera (JB):            37365.994\n",
      "Skew:                          -0.185   Prob(JB):                         0.00\n",
      "Kurtosis:                      30.707   Cond. No.                     1.00e+16\n",
      "==============================================================================\n",
      "\n",
      "Notes:\n",
      "[1] R² is computed without centering (uncentered) since the model does not contain a constant.\n",
      "[2] Standard Errors assume that the covariance matrix of the errors is correctly specified.\n",
      "[3] The smallest eigenvalue is 4.25e-26. This might indicate that there are\n",
      "strong multicollinearity problems or that the design matrix is singular.\n"
     ]
    }
   ],
   "source": [
    "# Create Training data with Backward stepwise (linear) regression\n",
    "X_train_backward = X_train[list(sfs1.k_feature_names_)]\n",
    "backwards_stepwise_model = sm.OLS(y_train, X_train_backward).fit()\n",
    "print(backwards_stepwise_model.summary())"
   ]
  },
  {
   "cell_type": "code",
   "execution_count": 37,
   "id": "a870fd31",
   "metadata": {},
   "outputs": [
    {
     "name": "stdout",
     "output_type": "stream",
     "text": [
      "Mean Squared Error: 953634758.079\n",
      "Square Root of Mean Squared Error: 30880.977\n"
     ]
    }
   ],
   "source": [
    "X_test_backward = X_test[list(sfs1.k_feature_names_)]\n",
    "print('Mean Squared Error: {:.3f}'.format(mean_squared_error(y_test, backwards_stepwise_model.predict(X_test_backward))))\n",
    "print('Square Root of Mean Squared Error: {:.3f}'.format(math.sqrt(mean_squared_error(y_test, backwards_stepwise_model.predict(X_test_backward)))))"
   ]
  },
  {
   "cell_type": "markdown",
   "id": "eb835436",
   "metadata": {},
   "source": [
    "# Forward stepwise regression with 10-fold cross validation to choose k\n"
   ]
  },
  {
   "cell_type": "code",
   "execution_count": 38,
   "id": "962ae325",
   "metadata": {},
   "outputs": [],
   "source": [
    "# Forward stepwise (linear) regression with 10-fold cross validation to choose k (number\n",
    "# of features)\n",
    "\n",
    "# Build step forward feature selection\n",
    "sfs2 = SFS(LinearRegression(), k_features = 'best', forward=True, floating=False, scoring='r2',cv=10, n_jobs=-1)\n",
    "\n",
    "# Perform SFFS\n",
    "sfs2 = sfs2.fit(X_train, y_train)"
   ]
  },
  {
   "cell_type": "code",
   "execution_count": 39,
   "id": "152f23e4",
   "metadata": {},
   "outputs": [
    {
     "data": {
      "image/png": "[encoded data removed]",
      "text/plain": [
       "<Figure size 1440x360 with 1 Axes>"
      ]
     },
     "metadata": {
      "needs_background": "light"
     },
     "output_type": "display_data"
    }
   ],
   "source": [
    "fig2 = plot_sfs(sfs2.get_metric_dict(), kind='std_dev', figsize=(20, 5))\n",
    "\n",
    "plt.ylim([0, 1])\n",
    "plt.xlim([1, 85])\n",
    "plt.title('Forward stepwise (linear) regression')\n",
    "plt.grid()\n",
    "plt.show()"
   ]
  },
  {
   "cell_type": "code",
   "execution_count": 40,
   "id": "11d1fede",
   "metadata": {},
   "outputs": [
    {
     "data": {
      "text/plain": [
       "81"
      ]
     },
     "execution_count": 40,
     "metadata": {},
     "output_type": "execute_result"
    }
   ],
   "source": [
    "# number of features\n",
    "len(sfs2.k_feature_names_)"
   ]
  },
  {
   "cell_type": "code",
   "execution_count": 41,
   "id": "0c178256",
   "metadata": {},
   "outputs": [
    {
     "data": {
      "text/plain": [
       "('Utilities',\n",
       " 'LandSlope',\n",
       " 'OverallQual',\n",
       " 'OverallCond',\n",
       " 'ExterQual',\n",
       " 'ExterCond',\n",
       " 'BsmtQual',\n",
       " 'BsmtExposure',\n",
       " 'BsmtFinType1',\n",
       " 'GrLivArea',\n",
       " 'KitchenAbvGr',\n",
       " 'KitchenQual',\n",
       " 'Functional',\n",
       " 'Fireplaces',\n",
       " 'GarageCars',\n",
       " 'ScreenPorch',\n",
       " 'totalSqFeet',\n",
       " 'totalBathroom',\n",
       " 'houseAge',\n",
       " 'MSSubClass_45',\n",
       " 'MSSubClass_50',\n",
       " 'MSSubClass_60',\n",
       " 'MSSubClass_120',\n",
       " 'MSSubClass_150',\n",
       " 'MSSubClass_160',\n",
       " 'MSSubClass_180',\n",
       " 'MSZoning_RM',\n",
       " 'LandContour_HLS',\n",
       " 'LandContour_Lvl',\n",
       " 'LotConfig_CulDSac',\n",
       " 'LotConfig_FR2',\n",
       " 'LotConfig_Inside',\n",
       " 'Neighborhood_Blueste',\n",
       " 'Neighborhood_BrDale',\n",
       " 'Neighborhood_ClearCr',\n",
       " 'Neighborhood_CollgCr',\n",
       " 'Neighborhood_Crawfor',\n",
       " 'Neighborhood_Gilbert',\n",
       " 'Neighborhood_IDOTRR',\n",
       " 'Neighborhood_MeadowV',\n",
       " 'Neighborhood_NAmes',\n",
       " 'Neighborhood_NPkVill',\n",
       " 'Neighborhood_NoRidge',\n",
       " 'Neighborhood_NridgHt',\n",
       " 'Neighborhood_Sawyer',\n",
       " 'Neighborhood_SawyerW',\n",
       " 'Neighborhood_Somerst',\n",
       " 'Neighborhood_StoneBr',\n",
       " 'Neighborhood_Veenker',\n",
       " 'Condition1_Norm',\n",
       " 'Condition1_PosA',\n",
       " 'Condition1_RRAn',\n",
       " 'Condition1_RRNe',\n",
       " 'Condition2_Norm',\n",
       " 'HouseStyle_1.5Unf',\n",
       " 'HouseStyle_1Story',\n",
       " 'HouseStyle_2.5Fin',\n",
       " 'RoofStyle_Gable',\n",
       " 'RoofMatl_Metal',\n",
       " 'RoofMatl_Roll',\n",
       " 'RoofMatl_WdShngl',\n",
       " 'Exterior1st_BrkFace',\n",
       " 'Exterior1st_HdBoard',\n",
       " 'Exterior2nd_Plywood',\n",
       " 'Exterior2nd_Stucco',\n",
       " 'Exterior2nd_Wd Sdng',\n",
       " 'Exterior2nd_Wd Shng',\n",
       " 'Heating_Grav',\n",
       " 'Heating_Wall',\n",
       " 'Electrical_FuseP',\n",
       " 'Electrical_SBrkr',\n",
       " 'GarageType_None',\n",
       " 'GarageFinish_None',\n",
       " 'GarageFinish_RFn',\n",
       " 'MiscFeature_None',\n",
       " 'MiscFeature_Othr',\n",
       " 'SaleType_Con',\n",
       " 'SaleType_ConLw',\n",
       " 'SaleType_New',\n",
       " 'SaleType_WD',\n",
       " 'SaleCondition_Normal')"
      ]
     },
     "execution_count": 41,
     "metadata": {},
     "output_type": "execute_result"
    }
   ],
   "source": [
    "sfs2.k_feature_names_"
   ]
  },
  {
   "cell_type": "code",
   "execution_count": 42,
   "id": "9c899c1a",
   "metadata": {},
   "outputs": [
    {
     "data": {
      "text/plain": [
       "0.8625756636723947"
      ]
     },
     "execution_count": 42,
     "metadata": {},
     "output_type": "execute_result"
    }
   ],
   "source": [
    "# get best r-squared score for Forward stepwise (linear) regression\n",
    "sfs2.k_score_"
   ]
  },
  {
   "cell_type": "code",
   "execution_count": 43,
   "id": "2967a8b8",
   "metadata": {},
   "outputs": [
    {
     "name": "stdout",
     "output_type": "stream",
     "text": [
      "                                 OLS Regression Results                                \n",
      "=======================================================================================\n",
      "Dep. Variable:              SalePrice   R-squared (uncentered):                   0.979\n",
      "Model:                            OLS   Adj. R-squared (uncentered):              0.977\n",
      "Method:                 Least Squares   F-statistic:                              646.0\n",
      "Date:                Wed, 06 Oct 2021   Prob (F-statistic):                        0.00\n",
      "Time:                        18:16:52   Log-Likelihood:                         -13652.\n",
      "No. Observations:                1168   AIC:                                  2.746e+04\n",
      "Df Residuals:                    1090   BIC:                                  2.785e+04\n",
      "Df Model:                          78                                                  \n",
      "Covariance Type:            nonrobust                                                  \n",
      "========================================================================================\n",
      "                           coef    std err          t      P>|t|      [0.025      0.975]\n",
      "----------------------------------------------------------------------------------------\n",
      "Utilities             7096.0465    3.1e+04      0.229      0.819   -5.37e+04    6.79e+04\n",
      "LandSlope             1.643e+04   4101.275      4.006      0.000    8382.367    2.45e+04\n",
      "OverallQual           1.776e+04   2572.352      6.904      0.000    1.27e+04    2.28e+04\n",
      "OverallCond           4860.0521    992.026      4.899      0.000    2913.555    6806.549\n",
      "ExterQual            -1.089e+04   1968.316     -5.532      0.000   -1.48e+04   -7027.416\n",
      "ExterCond             1937.6296   1305.337      1.484      0.138    -623.628    4498.888\n",
      "BsmtQual             -6583.0660   2228.140     -2.955      0.003    -1.1e+04   -2211.137\n",
      "BsmtExposure         -4695.2166    935.074     -5.021      0.000   -6529.964   -2860.469\n",
      "BsmtFinType1         -4400.3957   1920.517     -2.291      0.022   -8168.725    -632.066\n",
      "GrLivArea             3.829e+04   4021.945      9.521      0.000    3.04e+04    4.62e+04\n",
      "KitchenAbvGr         -1.951e+04   5019.017     -3.887      0.000   -2.94e+04   -9658.856\n",
      "KitchenQual          -8712.5560   1484.838     -5.868      0.000   -1.16e+04   -5799.092\n",
      "Functional            4771.2587    963.734      4.951      0.000    2880.275    6662.243\n",
      "Fireplaces            4639.1726   1781.356      2.604      0.009    1143.897    8134.448\n",
      "GarageCars            9401.6772   2089.725      4.499      0.000    5301.339    1.35e+04\n",
      "ScreenPorch             35.2017     15.969      2.204      0.028       3.869      66.535\n",
      "totalSqFeet          -4203.1782   3682.028     -1.142      0.254   -1.14e+04    3021.487\n",
      "totalBathroom         1.123e+04   1942.542      5.780      0.000    7416.252     1.5e+04\n",
      "houseAge             -3810.4096   3325.043     -1.146      0.252   -1.03e+04    2713.799\n",
      "MSSubClass_45        -5.504e+04   2.49e+04     -2.213      0.027   -1.04e+05   -6245.458\n",
      "MSSubClass_50         1.121e+04   3970.803      2.822      0.005    3415.378     1.9e+04\n",
      "MSSubClass_60        -3161.1822   4235.316     -0.746      0.456   -1.15e+04    5149.112\n",
      "MSSubClass_120       -3.356e+04   4407.175     -7.616      0.000   -4.22e+04   -2.49e+04\n",
      "MSSubClass_150        1.409e-10   9.41e-11      1.498      0.134   -4.37e-11    3.25e-10\n",
      "MSSubClass_160       -3.584e+04   7407.025     -4.838      0.000   -5.04e+04   -2.13e+04\n",
      "MSSubClass_180       -2.752e+04   1.52e+04     -1.815      0.070   -5.73e+04    2230.479\n",
      "MSZoning_RM           5497.0549   3552.611      1.547      0.122   -1473.675    1.25e+04\n",
      "LandContour_HLS       3.521e+04   6259.209      5.625      0.000    2.29e+04    4.75e+04\n",
      "LandContour_Lvl       2.621e+04   4139.963      6.330      0.000    1.81e+04    3.43e+04\n",
      "LotConfig_CulDSac     1.547e+04   4109.163      3.765      0.000    7406.520    2.35e+04\n",
      "LotConfig_FR2        -5324.7690   5478.546     -0.972      0.331   -1.61e+04    5424.920\n",
      "LotConfig_Inside      3864.1873   2358.821      1.638      0.102    -764.156    8492.531\n",
      "Neighborhood_Blueste  1.068e+04   2.25e+04      0.474      0.635   -3.35e+04    5.49e+04\n",
      "Neighborhood_BrDale   2.773e+04   1.09e+04      2.556      0.011    6443.429     4.9e+04\n",
      "Neighborhood_ClearCr   2.47e+04   7460.573      3.310      0.001    1.01e+04    3.93e+04\n",
      "Neighborhood_CollgCr  1695.4277   4029.204      0.421      0.674   -6210.446    9601.301\n",
      "Neighborhood_Crawfor  2.644e+04   5555.091      4.760      0.000    1.55e+04    3.73e+04\n",
      "Neighborhood_Gilbert  -517.5873   5006.356     -0.103      0.918   -1.03e+04    9305.597\n",
      "Neighborhood_IDOTRR  -3048.9228   5932.632     -0.514      0.607   -1.47e+04    8591.749\n",
      "Neighborhood_MeadowV  1.088e+04    1.1e+04      0.986      0.324   -1.08e+04    3.25e+04\n",
      "Neighborhood_NAmes    8001.2453   3145.527      2.544      0.011    1829.272    1.42e+04\n",
      "Neighborhood_NPkVill  2.529e+04   1.43e+04      1.768      0.077   -2784.733    5.34e+04\n",
      "Neighborhood_NoRidge  5.624e+04   6485.660      8.671      0.000    4.35e+04     6.9e+04\n",
      "Neighborhood_NridgHt  5.261e+04   5409.302      9.725      0.000     4.2e+04    6.32e+04\n",
      "Neighborhood_Sawyer   1.496e+04   4670.217      3.202      0.001    5792.636    2.41e+04\n",
      "Neighborhood_SawyerW  7690.8694   5146.726      1.494      0.135   -2407.742    1.78e+04\n",
      "Neighborhood_Somerst  2.054e+04   5456.395      3.764      0.000    9829.620    3.12e+04\n",
      "Neighborhood_StoneBr  6.818e+04   7586.621      8.987      0.000    5.33e+04    8.31e+04\n",
      "Neighborhood_Veenker  2.149e+04   1.05e+04      2.047      0.041     892.439    4.21e+04\n",
      "Condition1_Norm       1.555e+04   3070.380      5.066      0.000    9529.310    2.16e+04\n",
      "Condition1_PosA       8234.0251   1.21e+04      0.680      0.496   -1.55e+04     3.2e+04\n",
      "Condition1_RRAn       2.817e+04   7069.974      3.985      0.000    1.43e+04     4.2e+04\n",
      "Condition1_RRNe       1.731e+04   3.05e+04      0.567      0.571   -4.26e+04    7.73e+04\n",
      "Condition2_Norm       5.926e+04   7113.799      8.331      0.000    4.53e+04    7.32e+04\n",
      "HouseStyle_1.5Unf     7.166e+04   2.31e+04      3.108      0.002    2.64e+04    1.17e+05\n",
      "HouseStyle_1Story     2.198e+04   3481.735      6.312      0.000    1.51e+04    2.88e+04\n",
      "HouseStyle_2.5Fin    -1.916e+04    1.3e+04     -1.474      0.141   -4.47e+04    6337.938\n",
      "RoofStyle_Gable      -2517.9273   2356.003     -1.069      0.285   -7140.741    2104.886\n",
      "RoofMatl_Metal       -1.546e-11   1.93e-11     -0.800      0.424   -5.34e-11    2.24e-11\n",
      "RoofMatl_Roll         2.549e+04   3.06e+04      0.833      0.405   -3.46e+04    8.55e+04\n",
      "RoofMatl_WdShngl        9.7e+04   1.58e+04      6.138      0.000     6.6e+04    1.28e+05\n",
      "Exterior1st_BrkFace   1.018e+04   5309.912      1.918      0.055    -236.496    2.06e+04\n",
      "Exterior1st_HdBoard  -3357.9204   2909.971     -1.154      0.249   -9067.700    2351.859\n",
      "Exterior2nd_Plywood  -4080.0952   3594.448     -1.135      0.257   -1.11e+04    2972.724\n",
      "Exterior2nd_Stucco   -2.207e+04   7239.596     -3.049      0.002   -3.63e+04   -7868.842\n",
      "Exterior2nd_Wd Sdng  -1412.6974   3003.004     -0.470      0.638   -7305.020    4479.625\n",
      "Exterior2nd_Wd Shng  -1.305e+04   5474.462     -2.384      0.017   -2.38e+04   -2308.755\n",
      "Heating_Grav         -1.431e+04   1.35e+04     -1.062      0.289   -4.08e+04    1.21e+04\n",
      "Heating_Wall          1.471e+04   1.85e+04      0.797      0.426   -2.15e+04     5.1e+04\n",
      "Electrical_FuseP     -4269.4649   1.81e+04     -0.236      0.813   -3.98e+04    3.12e+04\n",
      "Electrical_SBrkr      1.272e+04   3556.227      3.578      0.000    5746.965    1.97e+04\n",
      "GarageType_None       4295.4035   2707.690      1.586      0.113   -1017.472    9608.279\n",
      "GarageFinish_None     4295.4035   2707.690      1.586      0.113   -1017.472    9608.279\n",
      "GarageFinish_RFn     -3010.5861   2171.764     -1.386      0.166   -7271.898    1250.726\n",
      "MiscFeature_None       1.95e+04   4494.390      4.338      0.000    1.07e+04    2.83e+04\n",
      "MiscFeature_Othr     -4745.0580   2.24e+04     -0.212      0.832   -4.87e+04    3.92e+04\n",
      "SaleType_Con          4.193e+04   2.25e+04      1.862      0.063   -2249.297    8.61e+04\n",
      "SaleType_ConLw       -4253.8520   1.81e+04     -0.234      0.815   -3.99e+04    3.13e+04\n",
      "SaleType_New          2.981e+04   5704.111      5.226      0.000    1.86e+04     4.1e+04\n",
      "SaleType_WD           7377.1856   4320.044      1.708      0.088   -1099.358    1.59e+04\n",
      "SaleCondition_Normal   1.07e+04   3253.694      3.289      0.001    4316.166    1.71e+04\n",
      "==============================================================================\n",
      "Omnibus:                      299.573   Durbin-Watson:                   2.097\n",
      "Prob(Omnibus):                  0.000   Jarque-Bera (JB):            18254.376\n",
      "Skew:                           0.101   Prob(JB):                         0.00\n",
      "Kurtosis:                      22.366   Cond. No.                     1.01e+16\n",
      "==============================================================================\n",
      "\n",
      "Notes:\n",
      "[1] R² is computed without centering (uncentered) since the model does not contain a constant.\n",
      "[2] Standard Errors assume that the covariance matrix of the errors is correctly specified.\n",
      "[3] The smallest eigenvalue is 4.23e-26. This might indicate that there are\n",
      "strong multicollinearity problems or that the design matrix is singular.\n"
     ]
    }
   ],
   "source": [
    "# Create Training data with Forward stepwise (linear) regression\n",
    "X_train_forward = X_train[list(sfs2.k_feature_names_)]\n",
    "forward_stepwise_model = sm.OLS(y_train, X_train_forward).fit()\n",
    "print(forward_stepwise_model.summary())"
   ]
  },
  {
   "cell_type": "code",
   "execution_count": 44,
   "id": "7a0b0933",
   "metadata": {},
   "outputs": [
    {
     "name": "stdout",
     "output_type": "stream",
     "text": [
      "Mean Squared Error: 918282194.592\n",
      "Square Root of Mean Squared Error: 30303.171\n"
     ]
    }
   ],
   "source": [
    "X_test_forward = X_test[list(sfs2.k_feature_names_)]\n",
    "print('Mean Squared Error: {:.3f}'.format(mean_squared_error(y_test, forward_stepwise_model.predict(X_test_forward))))\n",
    "print('Square Root of Mean Squared Error: {:.3f}'.format(math.sqrt(mean_squared_error(y_test, forward_stepwise_model.predict(X_test_forward)))))"
   ]
  },
  {
   "cell_type": "markdown",
   "id": "42540874",
   "metadata": {},
   "source": [
    "# Add Quadratic Features "
   ]
  },
  {
   "cell_type": "code",
   "execution_count": 45,
   "id": "4e47a5a0",
   "metadata": {},
   "outputs": [],
   "source": [
    "# polynomial features for train dataset signifiant features \n",
    "p_X_Train = PolynomialFeatures(degree=2, include_bias=False).fit(X_train)\n",
    "poly_X_train = pd.DataFrame(p_X_Train.transform(X_train), columns=p_X_Train.get_feature_names(X_train.columns.values))"
   ]
  },
  {
   "cell_type": "code",
   "execution_count": 46,
   "id": "74724699",
   "metadata": {},
   "outputs": [
    {
     "data": {
      "text/plain": [
       "26334"
      ]
     },
     "execution_count": 46,
     "metadata": {},
     "output_type": "execute_result"
    }
   ],
   "source": [
    "len(poly_X_train.columns)"
   ]
  },
  {
   "cell_type": "code",
   "execution_count": 47,
   "id": "1c3ed0aa",
   "metadata": {},
   "outputs": [],
   "source": [
    "# polynomial features for test dataset signifiant features \n",
    "p_X_test = PolynomialFeatures(degree=2, include_bias=False).fit(X_test)\n",
    "poly_X_test = pd.DataFrame(p_X_test.transform(X_test), columns=p_X_test.get_feature_names(X_test.columns.values))"
   ]
  },
  {
   "cell_type": "markdown",
   "id": "5ed45818",
   "metadata": {},
   "source": [
    "# Quadratic Features - k-Nearest Neighbors with 10-fold cross validation"
   ]
  },
  {
   "cell_type": "code",
   "execution_count": 48,
   "id": "5e466ed6",
   "metadata": {},
   "outputs": [
    {
     "name": "stdout",
     "output_type": "stream",
     "text": [
      "Best k: 23.000\n",
      "R-squared test score: 0.655\n",
      "Square Root of Mean Squared Error: 42674.115\n"
     ]
    }
   ],
   "source": [
    "# k-Nearest Neighbors with 10-fold cross validation to choose k\n",
    "#create new a knn model\n",
    "knn_quadratic = KNeighborsRegressor()\n",
    "# create a dictionary of all values we want to test for n_neighbors\n",
    "param_grid = {'n_neighbors': np.arange(1, 25)}\n",
    "#use gridsearch to test all values for n_neighbors\n",
    "knn_quadratic_gscv = GridSearchCV(knn_quadratic, param_grid, cv=10)\n",
    "#fit model to data\n",
    "knn_quadratic_gscv.fit(poly_X_train, y_train)\n",
    "\n",
    "#check top performing n_neighbors value\n",
    "best_k = knn_gscv.best_params_['n_neighbors']\n",
    "print('Best k: {:.3f}'.format(best_k))\n",
    "\n",
    "# report the testing accuracy\n",
    "knn3 = KNeighborsRegressor(n_neighbors=best_k)\n",
    "knn3.fit(poly_X_train, y_train)\n",
    "print('R-squared test score: {:.3f}'.format(knn3.score(poly_X_test, y_test)))\n",
    "print('Square Root of Mean Squared Error: {:.3f}'.format(math.sqrt(mean_squared_error(y_test, knn3.predict(poly_X_test)))))"
   ]
  },
  {
   "cell_type": "markdown",
   "id": "fd371de7",
   "metadata": {},
   "source": [
    "# Quadratic Features - Ridge regression with 10-fold cross validation "
   ]
  },
  {
   "cell_type": "code",
   "execution_count": 49,
   "id": "2cfaf105",
   "metadata": {},
   "outputs": [
    {
     "name": "stdout",
     "output_type": "stream",
     "text": [
      "Best alpha_: 75995554.148\n",
      "R-squared test score: 0.099\n",
      "Square Root of Mean Squared Error: 68981.473\n"
     ]
    }
   ],
   "source": [
    "# Ridge regression with 10-fold cross validation to chose ¸\n",
    "# The Ridge() function has an alpha argument ( λ , but with a different name!) that is used to tune the model\n",
    "# Alpha values ranging from very big to very small, essentially covering the full \n",
    "# range of scenarios from the null model containing only the intercept, to the least squares fit\n",
    "alphas = 10**np.linspace(10,-2,100)*0.5\n",
    "\n",
    "ridgecv = RidgeCV(alphas = alphas, scoring = 'neg_mean_squared_error')\n",
    "ridgecv.fit(poly_X_train, y_train)\n",
    "ridgecv.alpha_\n",
    "print('Best alpha_: {:.3f}'.format(ridgecv.alpha_))\n",
    "\n",
    "ridge2 = Ridge(alpha = ridgecv.alpha_)\n",
    "ridge2.fit(poly_X_train, y_train)\n",
    "print('R-squared test score: {:.3f}'.format(ridge2.score(poly_X_test, y_test)))\n",
    "print('Square Root of Mean Squared Error: {:.3f}'.format(math.sqrt(mean_squared_error(y_test, ridge2.predict(poly_X_test)))))"
   ]
  },
  {
   "cell_type": "markdown",
   "id": "900ce434",
   "metadata": {},
   "source": [
    "# Quadratic Features - LASSO with 10-fold cross validation"
   ]
  },
  {
   "cell_type": "code",
   "execution_count": 50,
   "id": "6f6982f3",
   "metadata": {},
   "outputs": [
    {
     "name": "stdout",
     "output_type": "stream",
     "text": [
      "Best alpha_: 33916379.071\n",
      "R-squared test score: 0.016\n",
      "Square Root of Mean Squared Error: 72080.139\n"
     ]
    }
   ],
   "source": [
    "# LASSO with 10-fold cross validation\n",
    "lassocv = LassoCV(alphas = None, cv = 10, max_iter = 100000)\n",
    "lassocv.fit(poly_X_train, y_train)\n",
    "\n",
    "lasso2 = Lasso(max_iter = 10000)\n",
    "lasso2.set_params(alpha=lassocv.alpha_)\n",
    "print('Best alpha_: {:.3f}'.format(lassocv.alpha_))\n",
    "lasso2.fit(poly_X_train, y_train)\n",
    "print('R-squared test score: {:.3f}'.format(lasso2.score(poly_X_test, y_test)))\n",
    "print('Square Root of Mean Squared Error: {:.3f}'.format(math.sqrt(mean_squared_error(y_test, lasso2.predict(poly_X_test)))))"
   ]
  },
  {
   "cell_type": "markdown",
   "id": "56cd79b4",
   "metadata": {},
   "source": [
    "# Kaggle Competition - Ridge Regression"
   ]
  },
  {
   "cell_type": "code",
   "execution_count": 51,
   "id": "af22b39a",
   "metadata": {},
   "outputs": [
    {
     "name": "stdout",
     "output_type": "stream",
     "text": [
      "Best alpha_: 12.385\n"
     ]
    },
    {
     "data": {
      "text/plain": [
       "Ridge(alpha=12.38538177995857)"
      ]
     },
     "execution_count": 51,
     "metadata": {},
     "output_type": "execute_result"
    }
   ],
   "source": [
    "# Ridge regression with 10-fold cross validation to chose ¸\n",
    "# The Ridge() function has an alpha argument ( λ , but with a different name!) that is used to tune the model\n",
    "# Alpha values ranging from very big to very small, essentially covering the full \n",
    "# range of scenarios from the null model containing only the intercept, to the least squares fit\n",
    "alphas = 10**np.linspace(10,-2,100)*0.5\n",
    "\n",
    "\n",
    "ridgecv = RidgeCV(alphas = alphas, scoring = 'neg_mean_squared_error')\n",
    "ridgecv.fit(X, Y)\n",
    "ridgecv.alpha_\n",
    "print('Best alpha_: {:.3f}'.format(ridgecv.alpha_))\n",
    "\n",
    "ridge_kaggle = Ridge(alpha = ridgecv.alpha_)\n",
    "ridge_kaggle.fit(X, Y)"
   ]
  },
  {
   "cell_type": "code",
   "execution_count": 52,
   "id": "bbd6d931",
   "metadata": {},
   "outputs": [],
   "source": [
    "test_data = combine_df[1460:].drop(columns=['Id', 'SalePrice'])"
   ]
  },
  {
   "cell_type": "code",
   "execution_count": 53,
   "id": "95b3723c",
   "metadata": {},
   "outputs": [
    {
     "data": {
      "text/plain": [
       "array([104498.8055456 , 156497.013231  , 171598.77291816, ...,\n",
       "       156245.89954293, 103300.18943854, 233924.8364987 ])"
      ]
     },
     "execution_count": 53,
     "metadata": {},
     "output_type": "execute_result"
    }
   ],
   "source": [
    "ridge_kaggle.predict(test_data)"
   ]
  },
  {
   "cell_type": "code",
   "execution_count": 54,
   "id": "e4da25a5",
   "metadata": {},
   "outputs": [],
   "source": [
    "test_results = pd.DataFrame(ridge_kaggle.predict(test_data))\n",
    "test_results.to_csv('kaggle_housing_ridge.csv')"
   ]
  },
  {
   "cell_type": "markdown",
   "id": "66f9d735",
   "metadata": {},
   "source": [
    "# Kaggle Competition - Forward Feature Selection"
   ]
  },
  {
   "cell_type": "code",
   "execution_count": 55,
   "id": "8b9777ad",
   "metadata": {},
   "outputs": [],
   "source": [
    "# Build step forward feature selection\n",
    "sfs2 = SFS(LinearRegression(), k_features = 'best', forward=True, floating=False, scoring='r2',cv=10, n_jobs=-1)\n",
    "\n",
    "# Perform SFFS\n",
    "sfs2 = sfs2.fit(X, Y)"
   ]
  },
  {
   "cell_type": "code",
   "execution_count": 56,
   "id": "ac520618",
   "metadata": {},
   "outputs": [],
   "source": [
    "# Create Training data with Forward stepwise (linear) regression\n",
    "X_forward = X[list(sfs2.k_feature_names_)]\n",
    "X_forward_stepwise_model = sm.OLS(Y, X_forward).fit()"
   ]
  },
  {
   "cell_type": "code",
   "execution_count": 57,
   "id": "13249ded",
   "metadata": {},
   "outputs": [],
   "source": [
    "test_data = combine_df[1460:]\n",
    "test_data = test_data[list(sfs2.k_feature_names_)]"
   ]
  },
  {
   "cell_type": "code",
   "execution_count": 58,
   "id": "92e1328a",
   "metadata": {},
   "outputs": [],
   "source": [
    "test_results = pd.DataFrame(X_forward_stepwise_model.predict(test_data))\n",
    "test_results.to_csv('kaggle_housing_forward.csv')"
   ]
  },
  {
   "cell_type": "code",
   "execution_count": 59,
   "id": "dc48a45f",
   "metadata": {},
   "outputs": [
    {
     "data": {
      "text/plain": [
       "0       106300.232750\n",
       "1       166875.872214\n",
       "2       168906.066958\n",
       "3       185013.994964\n",
       "4       223612.931965\n",
       "            ...      \n",
       "1454     65604.135304\n",
       "1455     59215.116687\n",
       "1456    169297.104259\n",
       "1457    112679.837880\n",
       "1458    228913.208480\n",
       "Length: 1459, dtype: float64"
      ]
     },
     "execution_count": 59,
     "metadata": {},
     "output_type": "execute_result"
    }
   ],
   "source": [
    "X_forward_stepwise_model.predict(test_data)"
   ]
  },
  {
   "cell_type": "markdown",
   "id": "7b225cf2",
   "metadata": {},
   "source": [
    "# Kaggle Competition - Backwards Stepwise Regression\n"
   ]
  },
  {
   "cell_type": "code",
   "execution_count": 60,
   "id": "2028e82a",
   "metadata": {},
   "outputs": [],
   "source": [
    "# Build Backward stepwise feature selection\n",
    "sfs1 = SFS(LinearRegression(),k_features = 'best', forward=False, floating=False, scoring='r2',cv=10, n_jobs=-1)\n",
    "\n",
    "# Perform SFFS\n",
    "sfs1 = sfs1.fit(X, Y)"
   ]
  },
  {
   "cell_type": "code",
   "execution_count": 61,
   "id": "db6a491f",
   "metadata": {},
   "outputs": [],
   "source": [
    "# Create Training data with Forward stepwise (linear) regression\n",
    "X_backwards = X[list(sfs1.k_feature_names_)]\n",
    "X_backwards_stepwise_model = sm.OLS(Y, X_backwards).fit()"
   ]
  },
  {
   "cell_type": "code",
   "execution_count": 62,
   "id": "c66b7fb0",
   "metadata": {},
   "outputs": [],
   "source": [
    "test_data = combine_df[1460:]\n",
    "test_data = test_data[list(sfs1.k_feature_names_)]"
   ]
  },
  {
   "cell_type": "code",
   "execution_count": 63,
   "id": "dbe4b505",
   "metadata": {},
   "outputs": [],
   "source": [
    "test_results = pd.DataFrame(X_backwards_stepwise_model.predict(test_data))\n",
    "test_results.to_csv('kaggle_housing_backwards.csv')"
   ]
  }
 ],
 "metadata": {
  "kernelspec": {
   "display_name": "Python 3",
   "language": "python",
   "name": "python3"
  },
  "language_info": {
   "codemirror_mode": {
    "name": "ipython",
    "version": 3
   },
   "file_extension": ".py",
   "mimetype": "text/x-python",
   "name": "python",
   "nbconvert_exporter": "python",
   "pygments_lexer": "ipython3",
   "version": "3.7.10"
  }
 },
 "nbformat": 4,
 "nbformat_minor": 5
}
